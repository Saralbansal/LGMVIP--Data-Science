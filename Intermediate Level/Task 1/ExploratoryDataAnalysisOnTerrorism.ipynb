{
  "nbformat": 4,
  "nbformat_minor": 0,
  "metadata": {
    "colab": {
      "name": "ExploratoryDataAnalysisOnTerrorism.ipynb",
      "provenance": []
    },
    "kernelspec": {
      "name": "python3",
      "display_name": "Python 3"
    },
    "language_info": {
      "name": "python"
    }
  },
  "cells": [
    {
      "cell_type": "code",
      "execution_count": 1,
      "metadata": {
        "id": "GjrixW_2SqXA"
      },
      "outputs": [],
      "source": [
        "#Saral Bansal\n",
        "#DATA SCIENCE INTERN AT LETSGROWMORE\n",
        "#INTERMEDIATE LEVEL TASK 1 : Exploratory Data Analysis on Terrorism"
      ]
    },
    {
      "cell_type": "code",
      "source": [
        "import pandas as pd\n",
        "import numpy as np\n",
        "import matplotlib.pyplot as plt\n",
        "%matplotlib inline\n",
        "import seaborn as sns"
      ],
      "metadata": {
        "id": "O8BYl4OlS_Vo"
      },
      "execution_count": 2,
      "outputs": []
    },
    {
      "cell_type": "code",
      "source": [
        "data=pd.read_csv(\"globalterrorismdb_0718dist.csv\",encoding='latin1')\n",
        "data.head()"
      ],
      "metadata": {
        "colab": {
          "base_uri": "https://localhost:8080/",
          "height": 352
        },
        "id": "Q2KwuhuuTEQK",
        "outputId": "dacd7080-f709-4b94-dc26-aa3a77f79381"
      },
      "execution_count": 3,
      "outputs": [
        {
          "output_type": "stream",
          "name": "stderr",
          "text": [
            "/usr/local/lib/python3.7/dist-packages/IPython/core/interactiveshell.py:2882: DtypeWarning: Columns (4,31,33,76,94,96,121) have mixed types.Specify dtype option on import or set low_memory=False.\n",
            "  exec(code_obj, self.user_global_ns, self.user_ns)\n"
          ]
        },
        {
          "output_type": "execute_result",
          "data": {
            "text/plain": [
              "        eventid  iyear  imonth  iday approxdate  extended resolution  country  \\\n",
              "0  197000000001   1970       7     2        NaN       0.0        NaN     58.0   \n",
              "1  197000000002   1970       0     0        NaN       0.0        NaN    130.0   \n",
              "2  197001000001   1970       1     0        NaN       0.0        NaN    160.0   \n",
              "3  197001000002   1970       1     0        NaN       0.0        NaN     78.0   \n",
              "4  197001000003   1970       1     0        NaN       0.0        NaN    101.0   \n",
              "\n",
              "          country_txt  region  ... addnotes scite1 scite2  scite3  dbsource  \\\n",
              "0  Dominican Republic     2.0  ...      NaN    NaN    NaN     NaN      PGIS   \n",
              "1              Mexico     1.0  ...      NaN    NaN    NaN     NaN      PGIS   \n",
              "2         Philippines     5.0  ...      NaN    NaN    NaN     NaN      PGIS   \n",
              "3              Greece     8.0  ...      NaN    NaN    NaN     NaN      PGIS   \n",
              "4               Japan     4.0  ...      NaN    NaN    NaN     NaN      PGIS   \n",
              "\n",
              "   INT_LOG  INT_IDEO INT_MISC INT_ANY  related  \n",
              "0      0.0       0.0      0.0     0.0      NaN  \n",
              "1      0.0       1.0      1.0     1.0      NaN  \n",
              "2     -9.0      -9.0      1.0     1.0      NaN  \n",
              "3     -9.0      -9.0      1.0     1.0      NaN  \n",
              "4     -9.0      -9.0      1.0     1.0      NaN  \n",
              "\n",
              "[5 rows x 135 columns]"
            ],
            "text/html": [
              "\n",
              "  <div id=\"df-65eab90b-ab4f-4d9b-9d45-c0e3e21dd167\">\n",
              "    <div class=\"colab-df-container\">\n",
              "      <div>\n",
              "<style scoped>\n",
              "    .dataframe tbody tr th:only-of-type {\n",
              "        vertical-align: middle;\n",
              "    }\n",
              "\n",
              "    .dataframe tbody tr th {\n",
              "        vertical-align: top;\n",
              "    }\n",
              "\n",
              "    .dataframe thead th {\n",
              "        text-align: right;\n",
              "    }\n",
              "</style>\n",
              "<table border=\"1\" class=\"dataframe\">\n",
              "  <thead>\n",
              "    <tr style=\"text-align: right;\">\n",
              "      <th></th>\n",
              "      <th>eventid</th>\n",
              "      <th>iyear</th>\n",
              "      <th>imonth</th>\n",
              "      <th>iday</th>\n",
              "      <th>approxdate</th>\n",
              "      <th>extended</th>\n",
              "      <th>resolution</th>\n",
              "      <th>country</th>\n",
              "      <th>country_txt</th>\n",
              "      <th>region</th>\n",
              "      <th>...</th>\n",
              "      <th>addnotes</th>\n",
              "      <th>scite1</th>\n",
              "      <th>scite2</th>\n",
              "      <th>scite3</th>\n",
              "      <th>dbsource</th>\n",
              "      <th>INT_LOG</th>\n",
              "      <th>INT_IDEO</th>\n",
              "      <th>INT_MISC</th>\n",
              "      <th>INT_ANY</th>\n",
              "      <th>related</th>\n",
              "    </tr>\n",
              "  </thead>\n",
              "  <tbody>\n",
              "    <tr>\n",
              "      <th>0</th>\n",
              "      <td>197000000001</td>\n",
              "      <td>1970</td>\n",
              "      <td>7</td>\n",
              "      <td>2</td>\n",
              "      <td>NaN</td>\n",
              "      <td>0.0</td>\n",
              "      <td>NaN</td>\n",
              "      <td>58.0</td>\n",
              "      <td>Dominican Republic</td>\n",
              "      <td>2.0</td>\n",
              "      <td>...</td>\n",
              "      <td>NaN</td>\n",
              "      <td>NaN</td>\n",
              "      <td>NaN</td>\n",
              "      <td>NaN</td>\n",
              "      <td>PGIS</td>\n",
              "      <td>0.0</td>\n",
              "      <td>0.0</td>\n",
              "      <td>0.0</td>\n",
              "      <td>0.0</td>\n",
              "      <td>NaN</td>\n",
              "    </tr>\n",
              "    <tr>\n",
              "      <th>1</th>\n",
              "      <td>197000000002</td>\n",
              "      <td>1970</td>\n",
              "      <td>0</td>\n",
              "      <td>0</td>\n",
              "      <td>NaN</td>\n",
              "      <td>0.0</td>\n",
              "      <td>NaN</td>\n",
              "      <td>130.0</td>\n",
              "      <td>Mexico</td>\n",
              "      <td>1.0</td>\n",
              "      <td>...</td>\n",
              "      <td>NaN</td>\n",
              "      <td>NaN</td>\n",
              "      <td>NaN</td>\n",
              "      <td>NaN</td>\n",
              "      <td>PGIS</td>\n",
              "      <td>0.0</td>\n",
              "      <td>1.0</td>\n",
              "      <td>1.0</td>\n",
              "      <td>1.0</td>\n",
              "      <td>NaN</td>\n",
              "    </tr>\n",
              "    <tr>\n",
              "      <th>2</th>\n",
              "      <td>197001000001</td>\n",
              "      <td>1970</td>\n",
              "      <td>1</td>\n",
              "      <td>0</td>\n",
              "      <td>NaN</td>\n",
              "      <td>0.0</td>\n",
              "      <td>NaN</td>\n",
              "      <td>160.0</td>\n",
              "      <td>Philippines</td>\n",
              "      <td>5.0</td>\n",
              "      <td>...</td>\n",
              "      <td>NaN</td>\n",
              "      <td>NaN</td>\n",
              "      <td>NaN</td>\n",
              "      <td>NaN</td>\n",
              "      <td>PGIS</td>\n",
              "      <td>-9.0</td>\n",
              "      <td>-9.0</td>\n",
              "      <td>1.0</td>\n",
              "      <td>1.0</td>\n",
              "      <td>NaN</td>\n",
              "    </tr>\n",
              "    <tr>\n",
              "      <th>3</th>\n",
              "      <td>197001000002</td>\n",
              "      <td>1970</td>\n",
              "      <td>1</td>\n",
              "      <td>0</td>\n",
              "      <td>NaN</td>\n",
              "      <td>0.0</td>\n",
              "      <td>NaN</td>\n",
              "      <td>78.0</td>\n",
              "      <td>Greece</td>\n",
              "      <td>8.0</td>\n",
              "      <td>...</td>\n",
              "      <td>NaN</td>\n",
              "      <td>NaN</td>\n",
              "      <td>NaN</td>\n",
              "      <td>NaN</td>\n",
              "      <td>PGIS</td>\n",
              "      <td>-9.0</td>\n",
              "      <td>-9.0</td>\n",
              "      <td>1.0</td>\n",
              "      <td>1.0</td>\n",
              "      <td>NaN</td>\n",
              "    </tr>\n",
              "    <tr>\n",
              "      <th>4</th>\n",
              "      <td>197001000003</td>\n",
              "      <td>1970</td>\n",
              "      <td>1</td>\n",
              "      <td>0</td>\n",
              "      <td>NaN</td>\n",
              "      <td>0.0</td>\n",
              "      <td>NaN</td>\n",
              "      <td>101.0</td>\n",
              "      <td>Japan</td>\n",
              "      <td>4.0</td>\n",
              "      <td>...</td>\n",
              "      <td>NaN</td>\n",
              "      <td>NaN</td>\n",
              "      <td>NaN</td>\n",
              "      <td>NaN</td>\n",
              "      <td>PGIS</td>\n",
              "      <td>-9.0</td>\n",
              "      <td>-9.0</td>\n",
              "      <td>1.0</td>\n",
              "      <td>1.0</td>\n",
              "      <td>NaN</td>\n",
              "    </tr>\n",
              "  </tbody>\n",
              "</table>\n",
              "<p>5 rows × 135 columns</p>\n",
              "</div>\n",
              "      <button class=\"colab-df-convert\" onclick=\"convertToInteractive('df-65eab90b-ab4f-4d9b-9d45-c0e3e21dd167')\"\n",
              "              title=\"Convert this dataframe to an interactive table.\"\n",
              "              style=\"display:none;\">\n",
              "        \n",
              "  <svg xmlns=\"http://www.w3.org/2000/svg\" height=\"24px\"viewBox=\"0 0 24 24\"\n",
              "       width=\"24px\">\n",
              "    <path d=\"M0 0h24v24H0V0z\" fill=\"none\"/>\n",
              "    <path d=\"M18.56 5.44l.94 2.06.94-2.06 2.06-.94-2.06-.94-.94-2.06-.94 2.06-2.06.94zm-11 1L8.5 8.5l.94-2.06 2.06-.94-2.06-.94L8.5 2.5l-.94 2.06-2.06.94zm10 10l.94 2.06.94-2.06 2.06-.94-2.06-.94-.94-2.06-.94 2.06-2.06.94z\"/><path d=\"M17.41 7.96l-1.37-1.37c-.4-.4-.92-.59-1.43-.59-.52 0-1.04.2-1.43.59L10.3 9.45l-7.72 7.72c-.78.78-.78 2.05 0 2.83L4 21.41c.39.39.9.59 1.41.59.51 0 1.02-.2 1.41-.59l7.78-7.78 2.81-2.81c.8-.78.8-2.07 0-2.86zM5.41 20L4 18.59l7.72-7.72 1.47 1.35L5.41 20z\"/>\n",
              "  </svg>\n",
              "      </button>\n",
              "      \n",
              "  <style>\n",
              "    .colab-df-container {\n",
              "      display:flex;\n",
              "      flex-wrap:wrap;\n",
              "      gap: 12px;\n",
              "    }\n",
              "\n",
              "    .colab-df-convert {\n",
              "      background-color: #E8F0FE;\n",
              "      border: none;\n",
              "      border-radius: 50%;\n",
              "      cursor: pointer;\n",
              "      display: none;\n",
              "      fill: #1967D2;\n",
              "      height: 32px;\n",
              "      padding: 0 0 0 0;\n",
              "      width: 32px;\n",
              "    }\n",
              "\n",
              "    .colab-df-convert:hover {\n",
              "      background-color: #E2EBFA;\n",
              "      box-shadow: 0px 1px 2px rgba(60, 64, 67, 0.3), 0px 1px 3px 1px rgba(60, 64, 67, 0.15);\n",
              "      fill: #174EA6;\n",
              "    }\n",
              "\n",
              "    [theme=dark] .colab-df-convert {\n",
              "      background-color: #3B4455;\n",
              "      fill: #D2E3FC;\n",
              "    }\n",
              "\n",
              "    [theme=dark] .colab-df-convert:hover {\n",
              "      background-color: #434B5C;\n",
              "      box-shadow: 0px 1px 3px 1px rgba(0, 0, 0, 0.15);\n",
              "      filter: drop-shadow(0px 1px 2px rgba(0, 0, 0, 0.3));\n",
              "      fill: #FFFFFF;\n",
              "    }\n",
              "  </style>\n",
              "\n",
              "      <script>\n",
              "        const buttonEl =\n",
              "          document.querySelector('#df-65eab90b-ab4f-4d9b-9d45-c0e3e21dd167 button.colab-df-convert');\n",
              "        buttonEl.style.display =\n",
              "          google.colab.kernel.accessAllowed ? 'block' : 'none';\n",
              "\n",
              "        async function convertToInteractive(key) {\n",
              "          const element = document.querySelector('#df-65eab90b-ab4f-4d9b-9d45-c0e3e21dd167');\n",
              "          const dataTable =\n",
              "            await google.colab.kernel.invokeFunction('convertToInteractive',\n",
              "                                                     [key], {});\n",
              "          if (!dataTable) return;\n",
              "\n",
              "          const docLinkHtml = 'Like what you see? Visit the ' +\n",
              "            '<a target=\"_blank\" href=https://colab.research.google.com/notebooks/data_table.ipynb>data table notebook</a>'\n",
              "            + ' to learn more about interactive tables.';\n",
              "          element.innerHTML = '';\n",
              "          dataTable['output_type'] = 'display_data';\n",
              "          await google.colab.output.renderOutput(dataTable, element);\n",
              "          const docLink = document.createElement('div');\n",
              "          docLink.innerHTML = docLinkHtml;\n",
              "          element.appendChild(docLink);\n",
              "        }\n",
              "      </script>\n",
              "    </div>\n",
              "  </div>\n",
              "  "
            ]
          },
          "metadata": {},
          "execution_count": 3
        }
      ]
    },
    {
      "cell_type": "code",
      "source": [
        "data.tail()"
      ],
      "metadata": {
        "colab": {
          "base_uri": "https://localhost:8080/",
          "height": 300
        },
        "id": "DtlsRQ_GTER0",
        "outputId": "88414eab-59b3-4bca-9c93-a12a2d19cdfc"
      },
      "execution_count": 4,
      "outputs": [
        {
          "output_type": "execute_result",
          "data": {
            "text/plain": [
              "           eventid  iyear  imonth  iday approxdate  extended resolution  \\\n",
              "9651  197911130005   1979      11    13        NaN       0.0        NaN   \n",
              "9652  197911130006   1979      11    13        NaN       0.0        NaN   \n",
              "9653  197911130007   1979      11    13        NaN       0.0        NaN   \n",
              "9654  197911130008   1979      11    13        NaN       0.0        NaN   \n",
              "9655  197911140001   1979      11    14        NaN       NaN        NaN   \n",
              "\n",
              "      country country_txt  region  ... addnotes scite1 scite2  scite3  \\\n",
              "9651     11.0   Argentina     3.0  ...      NaN    NaN    NaN     NaN   \n",
              "9652     45.0    Colombia     3.0  ...      NaN    NaN    NaN     NaN   \n",
              "9653     45.0    Colombia     3.0  ...      NaN    NaN    NaN     NaN   \n",
              "9654    162.0    Portugal     8.0  ...      NaN    NaN    NaN     NaN   \n",
              "9655      NaN         NaN     NaN  ...      NaN    NaN    NaN     NaN   \n",
              "\n",
              "      dbsource  INT_LOG  INT_IDEO INT_MISC INT_ANY  related  \n",
              "9651      PGIS      0.0       0.0      0.0     0.0      NaN  \n",
              "9652      PGIS      0.0       0.0      0.0     0.0      NaN  \n",
              "9653      PGIS      0.0       0.0      0.0     0.0      NaN  \n",
              "9654      PGIS     -9.0      -9.0      1.0     1.0      NaN  \n",
              "9655       NaN      NaN       NaN      NaN     NaN      NaN  \n",
              "\n",
              "[5 rows x 135 columns]"
            ],
            "text/html": [
              "\n",
              "  <div id=\"df-55f81746-d1a2-41bf-966e-58fa7129f117\">\n",
              "    <div class=\"colab-df-container\">\n",
              "      <div>\n",
              "<style scoped>\n",
              "    .dataframe tbody tr th:only-of-type {\n",
              "        vertical-align: middle;\n",
              "    }\n",
              "\n",
              "    .dataframe tbody tr th {\n",
              "        vertical-align: top;\n",
              "    }\n",
              "\n",
              "    .dataframe thead th {\n",
              "        text-align: right;\n",
              "    }\n",
              "</style>\n",
              "<table border=\"1\" class=\"dataframe\">\n",
              "  <thead>\n",
              "    <tr style=\"text-align: right;\">\n",
              "      <th></th>\n",
              "      <th>eventid</th>\n",
              "      <th>iyear</th>\n",
              "      <th>imonth</th>\n",
              "      <th>iday</th>\n",
              "      <th>approxdate</th>\n",
              "      <th>extended</th>\n",
              "      <th>resolution</th>\n",
              "      <th>country</th>\n",
              "      <th>country_txt</th>\n",
              "      <th>region</th>\n",
              "      <th>...</th>\n",
              "      <th>addnotes</th>\n",
              "      <th>scite1</th>\n",
              "      <th>scite2</th>\n",
              "      <th>scite3</th>\n",
              "      <th>dbsource</th>\n",
              "      <th>INT_LOG</th>\n",
              "      <th>INT_IDEO</th>\n",
              "      <th>INT_MISC</th>\n",
              "      <th>INT_ANY</th>\n",
              "      <th>related</th>\n",
              "    </tr>\n",
              "  </thead>\n",
              "  <tbody>\n",
              "    <tr>\n",
              "      <th>9651</th>\n",
              "      <td>197911130005</td>\n",
              "      <td>1979</td>\n",
              "      <td>11</td>\n",
              "      <td>13</td>\n",
              "      <td>NaN</td>\n",
              "      <td>0.0</td>\n",
              "      <td>NaN</td>\n",
              "      <td>11.0</td>\n",
              "      <td>Argentina</td>\n",
              "      <td>3.0</td>\n",
              "      <td>...</td>\n",
              "      <td>NaN</td>\n",
              "      <td>NaN</td>\n",
              "      <td>NaN</td>\n",
              "      <td>NaN</td>\n",
              "      <td>PGIS</td>\n",
              "      <td>0.0</td>\n",
              "      <td>0.0</td>\n",
              "      <td>0.0</td>\n",
              "      <td>0.0</td>\n",
              "      <td>NaN</td>\n",
              "    </tr>\n",
              "    <tr>\n",
              "      <th>9652</th>\n",
              "      <td>197911130006</td>\n",
              "      <td>1979</td>\n",
              "      <td>11</td>\n",
              "      <td>13</td>\n",
              "      <td>NaN</td>\n",
              "      <td>0.0</td>\n",
              "      <td>NaN</td>\n",
              "      <td>45.0</td>\n",
              "      <td>Colombia</td>\n",
              "      <td>3.0</td>\n",
              "      <td>...</td>\n",
              "      <td>NaN</td>\n",
              "      <td>NaN</td>\n",
              "      <td>NaN</td>\n",
              "      <td>NaN</td>\n",
              "      <td>PGIS</td>\n",
              "      <td>0.0</td>\n",
              "      <td>0.0</td>\n",
              "      <td>0.0</td>\n",
              "      <td>0.0</td>\n",
              "      <td>NaN</td>\n",
              "    </tr>\n",
              "    <tr>\n",
              "      <th>9653</th>\n",
              "      <td>197911130007</td>\n",
              "      <td>1979</td>\n",
              "      <td>11</td>\n",
              "      <td>13</td>\n",
              "      <td>NaN</td>\n",
              "      <td>0.0</td>\n",
              "      <td>NaN</td>\n",
              "      <td>45.0</td>\n",
              "      <td>Colombia</td>\n",
              "      <td>3.0</td>\n",
              "      <td>...</td>\n",
              "      <td>NaN</td>\n",
              "      <td>NaN</td>\n",
              "      <td>NaN</td>\n",
              "      <td>NaN</td>\n",
              "      <td>PGIS</td>\n",
              "      <td>0.0</td>\n",
              "      <td>0.0</td>\n",
              "      <td>0.0</td>\n",
              "      <td>0.0</td>\n",
              "      <td>NaN</td>\n",
              "    </tr>\n",
              "    <tr>\n",
              "      <th>9654</th>\n",
              "      <td>197911130008</td>\n",
              "      <td>1979</td>\n",
              "      <td>11</td>\n",
              "      <td>13</td>\n",
              "      <td>NaN</td>\n",
              "      <td>0.0</td>\n",
              "      <td>NaN</td>\n",
              "      <td>162.0</td>\n",
              "      <td>Portugal</td>\n",
              "      <td>8.0</td>\n",
              "      <td>...</td>\n",
              "      <td>NaN</td>\n",
              "      <td>NaN</td>\n",
              "      <td>NaN</td>\n",
              "      <td>NaN</td>\n",
              "      <td>PGIS</td>\n",
              "      <td>-9.0</td>\n",
              "      <td>-9.0</td>\n",
              "      <td>1.0</td>\n",
              "      <td>1.0</td>\n",
              "      <td>NaN</td>\n",
              "    </tr>\n",
              "    <tr>\n",
              "      <th>9655</th>\n",
              "      <td>197911140001</td>\n",
              "      <td>1979</td>\n",
              "      <td>11</td>\n",
              "      <td>14</td>\n",
              "      <td>NaN</td>\n",
              "      <td>NaN</td>\n",
              "      <td>NaN</td>\n",
              "      <td>NaN</td>\n",
              "      <td>NaN</td>\n",
              "      <td>NaN</td>\n",
              "      <td>...</td>\n",
              "      <td>NaN</td>\n",
              "      <td>NaN</td>\n",
              "      <td>NaN</td>\n",
              "      <td>NaN</td>\n",
              "      <td>NaN</td>\n",
              "      <td>NaN</td>\n",
              "      <td>NaN</td>\n",
              "      <td>NaN</td>\n",
              "      <td>NaN</td>\n",
              "      <td>NaN</td>\n",
              "    </tr>\n",
              "  </tbody>\n",
              "</table>\n",
              "<p>5 rows × 135 columns</p>\n",
              "</div>\n",
              "      <button class=\"colab-df-convert\" onclick=\"convertToInteractive('df-55f81746-d1a2-41bf-966e-58fa7129f117')\"\n",
              "              title=\"Convert this dataframe to an interactive table.\"\n",
              "              style=\"display:none;\">\n",
              "        \n",
              "  <svg xmlns=\"http://www.w3.org/2000/svg\" height=\"24px\"viewBox=\"0 0 24 24\"\n",
              "       width=\"24px\">\n",
              "    <path d=\"M0 0h24v24H0V0z\" fill=\"none\"/>\n",
              "    <path d=\"M18.56 5.44l.94 2.06.94-2.06 2.06-.94-2.06-.94-.94-2.06-.94 2.06-2.06.94zm-11 1L8.5 8.5l.94-2.06 2.06-.94-2.06-.94L8.5 2.5l-.94 2.06-2.06.94zm10 10l.94 2.06.94-2.06 2.06-.94-2.06-.94-.94-2.06-.94 2.06-2.06.94z\"/><path d=\"M17.41 7.96l-1.37-1.37c-.4-.4-.92-.59-1.43-.59-.52 0-1.04.2-1.43.59L10.3 9.45l-7.72 7.72c-.78.78-.78 2.05 0 2.83L4 21.41c.39.39.9.59 1.41.59.51 0 1.02-.2 1.41-.59l7.78-7.78 2.81-2.81c.8-.78.8-2.07 0-2.86zM5.41 20L4 18.59l7.72-7.72 1.47 1.35L5.41 20z\"/>\n",
              "  </svg>\n",
              "      </button>\n",
              "      \n",
              "  <style>\n",
              "    .colab-df-container {\n",
              "      display:flex;\n",
              "      flex-wrap:wrap;\n",
              "      gap: 12px;\n",
              "    }\n",
              "\n",
              "    .colab-df-convert {\n",
              "      background-color: #E8F0FE;\n",
              "      border: none;\n",
              "      border-radius: 50%;\n",
              "      cursor: pointer;\n",
              "      display: none;\n",
              "      fill: #1967D2;\n",
              "      height: 32px;\n",
              "      padding: 0 0 0 0;\n",
              "      width: 32px;\n",
              "    }\n",
              "\n",
              "    .colab-df-convert:hover {\n",
              "      background-color: #E2EBFA;\n",
              "      box-shadow: 0px 1px 2px rgba(60, 64, 67, 0.3), 0px 1px 3px 1px rgba(60, 64, 67, 0.15);\n",
              "      fill: #174EA6;\n",
              "    }\n",
              "\n",
              "    [theme=dark] .colab-df-convert {\n",
              "      background-color: #3B4455;\n",
              "      fill: #D2E3FC;\n",
              "    }\n",
              "\n",
              "    [theme=dark] .colab-df-convert:hover {\n",
              "      background-color: #434B5C;\n",
              "      box-shadow: 0px 1px 3px 1px rgba(0, 0, 0, 0.15);\n",
              "      filter: drop-shadow(0px 1px 2px rgba(0, 0, 0, 0.3));\n",
              "      fill: #FFFFFF;\n",
              "    }\n",
              "  </style>\n",
              "\n",
              "      <script>\n",
              "        const buttonEl =\n",
              "          document.querySelector('#df-55f81746-d1a2-41bf-966e-58fa7129f117 button.colab-df-convert');\n",
              "        buttonEl.style.display =\n",
              "          google.colab.kernel.accessAllowed ? 'block' : 'none';\n",
              "\n",
              "        async function convertToInteractive(key) {\n",
              "          const element = document.querySelector('#df-55f81746-d1a2-41bf-966e-58fa7129f117');\n",
              "          const dataTable =\n",
              "            await google.colab.kernel.invokeFunction('convertToInteractive',\n",
              "                                                     [key], {});\n",
              "          if (!dataTable) return;\n",
              "\n",
              "          const docLinkHtml = 'Like what you see? Visit the ' +\n",
              "            '<a target=\"_blank\" href=https://colab.research.google.com/notebooks/data_table.ipynb>data table notebook</a>'\n",
              "            + ' to learn more about interactive tables.';\n",
              "          element.innerHTML = '';\n",
              "          dataTable['output_type'] = 'display_data';\n",
              "          await google.colab.output.renderOutput(dataTable, element);\n",
              "          const docLink = document.createElement('div');\n",
              "          docLink.innerHTML = docLinkHtml;\n",
              "          element.appendChild(docLink);\n",
              "        }\n",
              "      </script>\n",
              "    </div>\n",
              "  </div>\n",
              "  "
            ]
          },
          "metadata": {},
          "execution_count": 4
        }
      ]
    },
    {
      "cell_type": "code",
      "source": [
        "data.info()"
      ],
      "metadata": {
        "colab": {
          "base_uri": "https://localhost:8080/"
        },
        "id": "15KM96cITEU0",
        "outputId": "19314a33-0002-4c32-8d63-151f56bbf812"
      },
      "execution_count": 5,
      "outputs": [
        {
          "output_type": "stream",
          "name": "stdout",
          "text": [
            "<class 'pandas.core.frame.DataFrame'>\n",
            "RangeIndex: 9656 entries, 0 to 9655\n",
            "Columns: 135 entries, eventid to related\n",
            "dtypes: float64(77), int64(4), object(54)\n",
            "memory usage: 9.9+ MB\n"
          ]
        }
      ]
    },
    {
      "cell_type": "code",
      "source": [
        "data.describe()"
      ],
      "metadata": {
        "colab": {
          "base_uri": "https://localhost:8080/",
          "height": 394
        },
        "id": "_qVlnyz8TEWT",
        "outputId": "3a64a0bf-6164-4ed5-cc33-c2cf0b02cab7"
      },
      "execution_count": 6,
      "outputs": [
        {
          "output_type": "execute_result",
          "data": {
            "text/plain": [
              "            eventid        iyear       imonth         iday     extended  \\\n",
              "count  9.656000e+03  9656.000000  9656.000000  9656.000000  9655.000000   \n",
              "mean   1.976036e+11  1975.971935     6.282001    15.164561     0.026308   \n",
              "std    2.889043e+08     2.890571     3.368098     9.022129     0.160057   \n",
              "min    1.970000e+11  1970.000000     0.000000     0.000000     0.000000   \n",
              "25%    1.974060e+11  1974.000000     3.000000     7.000000     0.000000   \n",
              "50%    1.977060e+11  1977.000000     6.000000    15.000000     0.000000   \n",
              "75%    1.978123e+11  1978.000000     9.000000    23.000000     0.000000   \n",
              "max    1.979111e+11  1979.000000    12.000000    31.000000     1.000000   \n",
              "\n",
              "           country       region     latitude    longitude  specificity  ...  \\\n",
              "count  9655.000000  9655.000000  9353.000000  9353.000000  9655.000000  ...   \n",
              "mean    220.367892     6.021647    33.155350   -20.829568     1.203418  ...   \n",
              "std     187.250876     3.289915    22.172133    53.255134     0.823601  ...   \n",
              "min       4.000000     1.000000   -45.867889  -157.818968     1.000000  ...   \n",
              "25%      96.000000     2.000000    25.699073   -73.931351     1.000000  ...   \n",
              "50%     185.000000     8.000000    40.697132    -5.956210     1.000000  ...   \n",
              "75%     217.000000     8.000000    46.669097    11.119059     1.000000  ...   \n",
              "max     605.000000    12.000000    64.837778   172.636225     5.000000  ...   \n",
              "\n",
              "          ransomamt  ransomamtus    ransompaid  ransompaidus  hostkidoutcome  \\\n",
              "count  2.820000e+02          1.0  7.900000e+01           1.0      449.000000   \n",
              "mean   5.019458e+06      20000.0  1.498046e+06           0.0        2.810690   \n",
              "std    5.982205e+07          NaN  5.104807e+06           NaN        1.261473   \n",
              "min    0.000000e+00      20000.0  0.000000e+00           0.0        2.000000   \n",
              "25%    0.000000e+00      20000.0  6.000000e+03           0.0        2.000000   \n",
              "50%    1.200000e+04      20000.0  8.000000e+04           0.0        2.000000   \n",
              "75%    5.000000e+05      20000.0  1.000000e+06           0.0        4.000000   \n",
              "max    1.000000e+09      20000.0  4.100000e+07           0.0        7.000000   \n",
              "\n",
              "        nreleased      INT_LOG     INT_IDEO     INT_MISC      INT_ANY  \n",
              "count  347.000000  9655.000000  9655.000000  9655.000000  9655.000000  \n",
              "mean     6.345821    -3.149871    -3.096634     0.347903    -1.825893  \n",
              "std     23.262047     4.430647     4.482302     0.664311     4.232378  \n",
              "min    -99.000000    -9.000000    -9.000000    -9.000000    -9.000000  \n",
              "25%      1.000000    -9.000000    -9.000000     0.000000    -9.000000  \n",
              "50%      1.000000     0.000000     0.000000     0.000000     0.000000  \n",
              "75%      2.000000     0.000000     0.000000     1.000000     1.000000  \n",
              "max    187.000000     1.000000     1.000000     1.000000     1.000000  \n",
              "\n",
              "[8 rows x 81 columns]"
            ],
            "text/html": [
              "\n",
              "  <div id=\"df-bbc016cc-cb5a-4564-810d-75a8de1d4612\">\n",
              "    <div class=\"colab-df-container\">\n",
              "      <div>\n",
              "<style scoped>\n",
              "    .dataframe tbody tr th:only-of-type {\n",
              "        vertical-align: middle;\n",
              "    }\n",
              "\n",
              "    .dataframe tbody tr th {\n",
              "        vertical-align: top;\n",
              "    }\n",
              "\n",
              "    .dataframe thead th {\n",
              "        text-align: right;\n",
              "    }\n",
              "</style>\n",
              "<table border=\"1\" class=\"dataframe\">\n",
              "  <thead>\n",
              "    <tr style=\"text-align: right;\">\n",
              "      <th></th>\n",
              "      <th>eventid</th>\n",
              "      <th>iyear</th>\n",
              "      <th>imonth</th>\n",
              "      <th>iday</th>\n",
              "      <th>extended</th>\n",
              "      <th>country</th>\n",
              "      <th>region</th>\n",
              "      <th>latitude</th>\n",
              "      <th>longitude</th>\n",
              "      <th>specificity</th>\n",
              "      <th>...</th>\n",
              "      <th>ransomamt</th>\n",
              "      <th>ransomamtus</th>\n",
              "      <th>ransompaid</th>\n",
              "      <th>ransompaidus</th>\n",
              "      <th>hostkidoutcome</th>\n",
              "      <th>nreleased</th>\n",
              "      <th>INT_LOG</th>\n",
              "      <th>INT_IDEO</th>\n",
              "      <th>INT_MISC</th>\n",
              "      <th>INT_ANY</th>\n",
              "    </tr>\n",
              "  </thead>\n",
              "  <tbody>\n",
              "    <tr>\n",
              "      <th>count</th>\n",
              "      <td>9.656000e+03</td>\n",
              "      <td>9656.000000</td>\n",
              "      <td>9656.000000</td>\n",
              "      <td>9656.000000</td>\n",
              "      <td>9655.000000</td>\n",
              "      <td>9655.000000</td>\n",
              "      <td>9655.000000</td>\n",
              "      <td>9353.000000</td>\n",
              "      <td>9353.000000</td>\n",
              "      <td>9655.000000</td>\n",
              "      <td>...</td>\n",
              "      <td>2.820000e+02</td>\n",
              "      <td>1.0</td>\n",
              "      <td>7.900000e+01</td>\n",
              "      <td>1.0</td>\n",
              "      <td>449.000000</td>\n",
              "      <td>347.000000</td>\n",
              "      <td>9655.000000</td>\n",
              "      <td>9655.000000</td>\n",
              "      <td>9655.000000</td>\n",
              "      <td>9655.000000</td>\n",
              "    </tr>\n",
              "    <tr>\n",
              "      <th>mean</th>\n",
              "      <td>1.976036e+11</td>\n",
              "      <td>1975.971935</td>\n",
              "      <td>6.282001</td>\n",
              "      <td>15.164561</td>\n",
              "      <td>0.026308</td>\n",
              "      <td>220.367892</td>\n",
              "      <td>6.021647</td>\n",
              "      <td>33.155350</td>\n",
              "      <td>-20.829568</td>\n",
              "      <td>1.203418</td>\n",
              "      <td>...</td>\n",
              "      <td>5.019458e+06</td>\n",
              "      <td>20000.0</td>\n",
              "      <td>1.498046e+06</td>\n",
              "      <td>0.0</td>\n",
              "      <td>2.810690</td>\n",
              "      <td>6.345821</td>\n",
              "      <td>-3.149871</td>\n",
              "      <td>-3.096634</td>\n",
              "      <td>0.347903</td>\n",
              "      <td>-1.825893</td>\n",
              "    </tr>\n",
              "    <tr>\n",
              "      <th>std</th>\n",
              "      <td>2.889043e+08</td>\n",
              "      <td>2.890571</td>\n",
              "      <td>3.368098</td>\n",
              "      <td>9.022129</td>\n",
              "      <td>0.160057</td>\n",
              "      <td>187.250876</td>\n",
              "      <td>3.289915</td>\n",
              "      <td>22.172133</td>\n",
              "      <td>53.255134</td>\n",
              "      <td>0.823601</td>\n",
              "      <td>...</td>\n",
              "      <td>5.982205e+07</td>\n",
              "      <td>NaN</td>\n",
              "      <td>5.104807e+06</td>\n",
              "      <td>NaN</td>\n",
              "      <td>1.261473</td>\n",
              "      <td>23.262047</td>\n",
              "      <td>4.430647</td>\n",
              "      <td>4.482302</td>\n",
              "      <td>0.664311</td>\n",
              "      <td>4.232378</td>\n",
              "    </tr>\n",
              "    <tr>\n",
              "      <th>min</th>\n",
              "      <td>1.970000e+11</td>\n",
              "      <td>1970.000000</td>\n",
              "      <td>0.000000</td>\n",
              "      <td>0.000000</td>\n",
              "      <td>0.000000</td>\n",
              "      <td>4.000000</td>\n",
              "      <td>1.000000</td>\n",
              "      <td>-45.867889</td>\n",
              "      <td>-157.818968</td>\n",
              "      <td>1.000000</td>\n",
              "      <td>...</td>\n",
              "      <td>0.000000e+00</td>\n",
              "      <td>20000.0</td>\n",
              "      <td>0.000000e+00</td>\n",
              "      <td>0.0</td>\n",
              "      <td>2.000000</td>\n",
              "      <td>-99.000000</td>\n",
              "      <td>-9.000000</td>\n",
              "      <td>-9.000000</td>\n",
              "      <td>-9.000000</td>\n",
              "      <td>-9.000000</td>\n",
              "    </tr>\n",
              "    <tr>\n",
              "      <th>25%</th>\n",
              "      <td>1.974060e+11</td>\n",
              "      <td>1974.000000</td>\n",
              "      <td>3.000000</td>\n",
              "      <td>7.000000</td>\n",
              "      <td>0.000000</td>\n",
              "      <td>96.000000</td>\n",
              "      <td>2.000000</td>\n",
              "      <td>25.699073</td>\n",
              "      <td>-73.931351</td>\n",
              "      <td>1.000000</td>\n",
              "      <td>...</td>\n",
              "      <td>0.000000e+00</td>\n",
              "      <td>20000.0</td>\n",
              "      <td>6.000000e+03</td>\n",
              "      <td>0.0</td>\n",
              "      <td>2.000000</td>\n",
              "      <td>1.000000</td>\n",
              "      <td>-9.000000</td>\n",
              "      <td>-9.000000</td>\n",
              "      <td>0.000000</td>\n",
              "      <td>-9.000000</td>\n",
              "    </tr>\n",
              "    <tr>\n",
              "      <th>50%</th>\n",
              "      <td>1.977060e+11</td>\n",
              "      <td>1977.000000</td>\n",
              "      <td>6.000000</td>\n",
              "      <td>15.000000</td>\n",
              "      <td>0.000000</td>\n",
              "      <td>185.000000</td>\n",
              "      <td>8.000000</td>\n",
              "      <td>40.697132</td>\n",
              "      <td>-5.956210</td>\n",
              "      <td>1.000000</td>\n",
              "      <td>...</td>\n",
              "      <td>1.200000e+04</td>\n",
              "      <td>20000.0</td>\n",
              "      <td>8.000000e+04</td>\n",
              "      <td>0.0</td>\n",
              "      <td>2.000000</td>\n",
              "      <td>1.000000</td>\n",
              "      <td>0.000000</td>\n",
              "      <td>0.000000</td>\n",
              "      <td>0.000000</td>\n",
              "      <td>0.000000</td>\n",
              "    </tr>\n",
              "    <tr>\n",
              "      <th>75%</th>\n",
              "      <td>1.978123e+11</td>\n",
              "      <td>1978.000000</td>\n",
              "      <td>9.000000</td>\n",
              "      <td>23.000000</td>\n",
              "      <td>0.000000</td>\n",
              "      <td>217.000000</td>\n",
              "      <td>8.000000</td>\n",
              "      <td>46.669097</td>\n",
              "      <td>11.119059</td>\n",
              "      <td>1.000000</td>\n",
              "      <td>...</td>\n",
              "      <td>5.000000e+05</td>\n",
              "      <td>20000.0</td>\n",
              "      <td>1.000000e+06</td>\n",
              "      <td>0.0</td>\n",
              "      <td>4.000000</td>\n",
              "      <td>2.000000</td>\n",
              "      <td>0.000000</td>\n",
              "      <td>0.000000</td>\n",
              "      <td>1.000000</td>\n",
              "      <td>1.000000</td>\n",
              "    </tr>\n",
              "    <tr>\n",
              "      <th>max</th>\n",
              "      <td>1.979111e+11</td>\n",
              "      <td>1979.000000</td>\n",
              "      <td>12.000000</td>\n",
              "      <td>31.000000</td>\n",
              "      <td>1.000000</td>\n",
              "      <td>605.000000</td>\n",
              "      <td>12.000000</td>\n",
              "      <td>64.837778</td>\n",
              "      <td>172.636225</td>\n",
              "      <td>5.000000</td>\n",
              "      <td>...</td>\n",
              "      <td>1.000000e+09</td>\n",
              "      <td>20000.0</td>\n",
              "      <td>4.100000e+07</td>\n",
              "      <td>0.0</td>\n",
              "      <td>7.000000</td>\n",
              "      <td>187.000000</td>\n",
              "      <td>1.000000</td>\n",
              "      <td>1.000000</td>\n",
              "      <td>1.000000</td>\n",
              "      <td>1.000000</td>\n",
              "    </tr>\n",
              "  </tbody>\n",
              "</table>\n",
              "<p>8 rows × 81 columns</p>\n",
              "</div>\n",
              "      <button class=\"colab-df-convert\" onclick=\"convertToInteractive('df-bbc016cc-cb5a-4564-810d-75a8de1d4612')\"\n",
              "              title=\"Convert this dataframe to an interactive table.\"\n",
              "              style=\"display:none;\">\n",
              "        \n",
              "  <svg xmlns=\"http://www.w3.org/2000/svg\" height=\"24px\"viewBox=\"0 0 24 24\"\n",
              "       width=\"24px\">\n",
              "    <path d=\"M0 0h24v24H0V0z\" fill=\"none\"/>\n",
              "    <path d=\"M18.56 5.44l.94 2.06.94-2.06 2.06-.94-2.06-.94-.94-2.06-.94 2.06-2.06.94zm-11 1L8.5 8.5l.94-2.06 2.06-.94-2.06-.94L8.5 2.5l-.94 2.06-2.06.94zm10 10l.94 2.06.94-2.06 2.06-.94-2.06-.94-.94-2.06-.94 2.06-2.06.94z\"/><path d=\"M17.41 7.96l-1.37-1.37c-.4-.4-.92-.59-1.43-.59-.52 0-1.04.2-1.43.59L10.3 9.45l-7.72 7.72c-.78.78-.78 2.05 0 2.83L4 21.41c.39.39.9.59 1.41.59.51 0 1.02-.2 1.41-.59l7.78-7.78 2.81-2.81c.8-.78.8-2.07 0-2.86zM5.41 20L4 18.59l7.72-7.72 1.47 1.35L5.41 20z\"/>\n",
              "  </svg>\n",
              "      </button>\n",
              "      \n",
              "  <style>\n",
              "    .colab-df-container {\n",
              "      display:flex;\n",
              "      flex-wrap:wrap;\n",
              "      gap: 12px;\n",
              "    }\n",
              "\n",
              "    .colab-df-convert {\n",
              "      background-color: #E8F0FE;\n",
              "      border: none;\n",
              "      border-radius: 50%;\n",
              "      cursor: pointer;\n",
              "      display: none;\n",
              "      fill: #1967D2;\n",
              "      height: 32px;\n",
              "      padding: 0 0 0 0;\n",
              "      width: 32px;\n",
              "    }\n",
              "\n",
              "    .colab-df-convert:hover {\n",
              "      background-color: #E2EBFA;\n",
              "      box-shadow: 0px 1px 2px rgba(60, 64, 67, 0.3), 0px 1px 3px 1px rgba(60, 64, 67, 0.15);\n",
              "      fill: #174EA6;\n",
              "    }\n",
              "\n",
              "    [theme=dark] .colab-df-convert {\n",
              "      background-color: #3B4455;\n",
              "      fill: #D2E3FC;\n",
              "    }\n",
              "\n",
              "    [theme=dark] .colab-df-convert:hover {\n",
              "      background-color: #434B5C;\n",
              "      box-shadow: 0px 1px 3px 1px rgba(0, 0, 0, 0.15);\n",
              "      filter: drop-shadow(0px 1px 2px rgba(0, 0, 0, 0.3));\n",
              "      fill: #FFFFFF;\n",
              "    }\n",
              "  </style>\n",
              "\n",
              "      <script>\n",
              "        const buttonEl =\n",
              "          document.querySelector('#df-bbc016cc-cb5a-4564-810d-75a8de1d4612 button.colab-df-convert');\n",
              "        buttonEl.style.display =\n",
              "          google.colab.kernel.accessAllowed ? 'block' : 'none';\n",
              "\n",
              "        async function convertToInteractive(key) {\n",
              "          const element = document.querySelector('#df-bbc016cc-cb5a-4564-810d-75a8de1d4612');\n",
              "          const dataTable =\n",
              "            await google.colab.kernel.invokeFunction('convertToInteractive',\n",
              "                                                     [key], {});\n",
              "          if (!dataTable) return;\n",
              "\n",
              "          const docLinkHtml = 'Like what you see? Visit the ' +\n",
              "            '<a target=\"_blank\" href=https://colab.research.google.com/notebooks/data_table.ipynb>data table notebook</a>'\n",
              "            + ' to learn more about interactive tables.';\n",
              "          element.innerHTML = '';\n",
              "          dataTable['output_type'] = 'display_data';\n",
              "          await google.colab.output.renderOutput(dataTable, element);\n",
              "          const docLink = document.createElement('div');\n",
              "          docLink.innerHTML = docLinkHtml;\n",
              "          element.appendChild(docLink);\n",
              "        }\n",
              "      </script>\n",
              "    </div>\n",
              "  </div>\n",
              "  "
            ]
          },
          "metadata": {},
          "execution_count": 6
        }
      ]
    },
    {
      "cell_type": "code",
      "source": [
        "data.dtypes"
      ],
      "metadata": {
        "colab": {
          "base_uri": "https://localhost:8080/"
        },
        "id": "PNGSJonRTEZR",
        "outputId": "edf6a419-b681-4378-e418-9fb20dff620a"
      },
      "execution_count": 7,
      "outputs": [
        {
          "output_type": "execute_result",
          "data": {
            "text/plain": [
              "eventid         int64\n",
              "iyear           int64\n",
              "imonth          int64\n",
              "iday            int64\n",
              "approxdate     object\n",
              "               ...   \n",
              "INT_LOG       float64\n",
              "INT_IDEO      float64\n",
              "INT_MISC      float64\n",
              "INT_ANY       float64\n",
              "related        object\n",
              "Length: 135, dtype: object"
            ]
          },
          "metadata": {},
          "execution_count": 7
        }
      ]
    },
    {
      "cell_type": "code",
      "source": [
        "data.corr"
      ],
      "metadata": {
        "colab": {
          "base_uri": "https://localhost:8080/"
        },
        "id": "_Icd4Bt9WY6y",
        "outputId": "4d4ea5cd-7a68-4fb5-83e4-4036e407a6f9"
      },
      "execution_count": 42,
      "outputs": [
        {
          "output_type": "execute_result",
          "data": {
            "text/plain": [
              "<bound method DataFrame.corr of            eventid  iyear  imonth  iday approxdate  extended resolution  \\\n",
              "0     197000000001   1970       7     2        NaN       0.0        NaN   \n",
              "1     197000000002   1970       0     0        NaN       0.0        NaN   \n",
              "2     197001000001   1970       1     0        NaN       0.0        NaN   \n",
              "3     197001000002   1970       1     0        NaN       0.0        NaN   \n",
              "4     197001000003   1970       1     0        NaN       0.0        NaN   \n",
              "...            ...    ...     ...   ...        ...       ...        ...   \n",
              "9651  197911130005   1979      11    13        NaN       0.0        NaN   \n",
              "9652  197911130006   1979      11    13        NaN       0.0        NaN   \n",
              "9653  197911130007   1979      11    13        NaN       0.0        NaN   \n",
              "9654  197911130008   1979      11    13        NaN       0.0        NaN   \n",
              "9655  197911140001   1979      11    14        NaN       NaN        NaN   \n",
              "\n",
              "      country         country_txt  region  ... addnotes scite1 scite2  scite3  \\\n",
              "0        58.0  Dominican Republic     2.0  ...      NaN    NaN    NaN     NaN   \n",
              "1       130.0              Mexico     1.0  ...      NaN    NaN    NaN     NaN   \n",
              "2       160.0         Philippines     5.0  ...      NaN    NaN    NaN     NaN   \n",
              "3        78.0              Greece     8.0  ...      NaN    NaN    NaN     NaN   \n",
              "4       101.0               Japan     4.0  ...      NaN    NaN    NaN     NaN   \n",
              "...       ...                 ...     ...  ...      ...    ...    ...     ...   \n",
              "9651     11.0           Argentina     3.0  ...      NaN    NaN    NaN     NaN   \n",
              "9652     45.0            Colombia     3.0  ...      NaN    NaN    NaN     NaN   \n",
              "9653     45.0            Colombia     3.0  ...      NaN    NaN    NaN     NaN   \n",
              "9654    162.0            Portugal     8.0  ...      NaN    NaN    NaN     NaN   \n",
              "9655      NaN                 NaN     NaN  ...      NaN    NaN    NaN     NaN   \n",
              "\n",
              "      dbsource  INT_LOG  INT_IDEO INT_MISC INT_ANY  related  \n",
              "0         PGIS      0.0       0.0      0.0     0.0      NaN  \n",
              "1         PGIS      0.0       1.0      1.0     1.0      NaN  \n",
              "2         PGIS     -9.0      -9.0      1.0     1.0      NaN  \n",
              "3         PGIS     -9.0      -9.0      1.0     1.0      NaN  \n",
              "4         PGIS     -9.0      -9.0      1.0     1.0      NaN  \n",
              "...        ...      ...       ...      ...     ...      ...  \n",
              "9651      PGIS      0.0       0.0      0.0     0.0      NaN  \n",
              "9652      PGIS      0.0       0.0      0.0     0.0      NaN  \n",
              "9653      PGIS      0.0       0.0      0.0     0.0      NaN  \n",
              "9654      PGIS     -9.0      -9.0      1.0     1.0      NaN  \n",
              "9655       NaN      NaN       NaN      NaN     NaN      NaN  \n",
              "\n",
              "[9656 rows x 135 columns]>"
            ]
          },
          "metadata": {},
          "execution_count": 42
        }
      ]
    },
    {
      "cell_type": "code",
      "source": [
        "data.isnull().sum()"
      ],
      "metadata": {
        "colab": {
          "base_uri": "https://localhost:8080/"
        },
        "id": "xqbn5b2eTEa3",
        "outputId": "61853a05-859a-4bce-d51a-939d1ac160c6"
      },
      "execution_count": 8,
      "outputs": [
        {
          "output_type": "execute_result",
          "data": {
            "text/plain": [
              "eventid          0\n",
              "iyear            0\n",
              "imonth           0\n",
              "iday             0\n",
              "approxdate    9639\n",
              "              ... \n",
              "INT_LOG          1\n",
              "INT_IDEO         1\n",
              "INT_MISC         1\n",
              "INT_ANY          1\n",
              "related       9034\n",
              "Length: 135, dtype: int64"
            ]
          },
          "metadata": {},
          "execution_count": 8
        }
      ]
    },
    {
      "cell_type": "code",
      "source": [
        "for i in data.columns:\n",
        "    print(i, end=\" ,\")"
      ],
      "metadata": {
        "colab": {
          "base_uri": "https://localhost:8080/"
        },
        "id": "_VOYeo_9TEd8",
        "outputId": "19408122-0893-42f0-c6b2-1779f8fa4a6a"
      },
      "execution_count": 9,
      "outputs": [
        {
          "output_type": "stream",
          "name": "stdout",
          "text": [
            "eventid ,iyear ,imonth ,iday ,approxdate ,extended ,resolution ,country ,country_txt ,region ,region_txt ,provstate ,city ,latitude ,longitude ,specificity ,vicinity ,location ,summary ,crit1 ,crit2 ,crit3 ,doubtterr ,alternative ,alternative_txt ,multiple ,success ,suicide ,attacktype1 ,attacktype1_txt ,attacktype2 ,attacktype2_txt ,attacktype3 ,attacktype3_txt ,targtype1 ,targtype1_txt ,targsubtype1 ,targsubtype1_txt ,corp1 ,target1 ,natlty1 ,natlty1_txt ,targtype2 ,targtype2_txt ,targsubtype2 ,targsubtype2_txt ,corp2 ,target2 ,natlty2 ,natlty2_txt ,targtype3 ,targtype3_txt ,targsubtype3 ,targsubtype3_txt ,corp3 ,target3 ,natlty3 ,natlty3_txt ,gname ,gsubname ,gname2 ,gsubname2 ,gname3 ,gsubname3 ,motive ,guncertain1 ,guncertain2 ,guncertain3 ,individual ,nperps ,nperpcap ,claimed ,claimmode ,claimmode_txt ,claim2 ,claimmode2 ,claimmode2_txt ,claim3 ,claimmode3 ,claimmode3_txt ,compclaim ,weaptype1 ,weaptype1_txt ,weapsubtype1 ,weapsubtype1_txt ,weaptype2 ,weaptype2_txt ,weapsubtype2 ,weapsubtype2_txt ,weaptype3 ,weaptype3_txt ,weapsubtype3 ,weapsubtype3_txt ,weaptype4 ,weaptype4_txt ,weapsubtype4 ,weapsubtype4_txt ,weapdetail ,nkill ,nkillus ,nkillter ,nwound ,nwoundus ,nwoundte ,property ,propextent ,propextent_txt ,propvalue ,propcomment ,ishostkid ,nhostkid ,nhostkidus ,nhours ,ndays ,divert ,kidhijcountry ,ransom ,ransomamt ,ransomamtus ,ransompaid ,ransompaidus ,ransomnote ,hostkidoutcome ,hostkidoutcome_txt ,nreleased ,addnotes ,scite1 ,scite2 ,scite3 ,dbsource ,INT_LOG ,INT_IDEO ,INT_MISC ,INT_ANY ,related ,"
          ]
        }
      ]
    },
    {
      "cell_type": "code",
      "source": [
        "cols = data.columns"
      ],
      "metadata": {
        "id": "krGZkhmATEgB"
      },
      "execution_count": 10,
      "outputs": []
    },
    {
      "cell_type": "code",
      "source": [
        "cols = []\n",
        "for i in cols:\n",
        "    if data[i].isnull().sum() > 1500000:\n",
        "        cols.append(i)"
      ],
      "metadata": {
        "id": "t2x8bVpDTEil"
      },
      "execution_count": 11,
      "outputs": []
    },
    {
      "cell_type": "code",
      "source": [
        "data = data.drop(cols, axis=1)"
      ],
      "metadata": {
        "id": "fCKCc2V_TElU"
      },
      "execution_count": 12,
      "outputs": []
    },
    {
      "cell_type": "code",
      "source": [
        "data.columns"
      ],
      "metadata": {
        "colab": {
          "base_uri": "https://localhost:8080/"
        },
        "id": "mPUkaXZRTxqx",
        "outputId": "46ae7acc-5cb1-46f1-92ce-8cea519ff971"
      },
      "execution_count": 13,
      "outputs": [
        {
          "output_type": "execute_result",
          "data": {
            "text/plain": [
              "Index(['eventid', 'iyear', 'imonth', 'iday', 'approxdate', 'extended',\n",
              "       'resolution', 'country', 'country_txt', 'region',\n",
              "       ...\n",
              "       'addnotes', 'scite1', 'scite2', 'scite3', 'dbsource', 'INT_LOG',\n",
              "       'INT_IDEO', 'INT_MISC', 'INT_ANY', 'related'],\n",
              "      dtype='object', length=135)"
            ]
          },
          "metadata": {},
          "execution_count": 13
        }
      ]
    },
    {
      "cell_type": "code",
      "source": [
        "data.shape"
      ],
      "metadata": {
        "colab": {
          "base_uri": "https://localhost:8080/"
        },
        "id": "dM6TB2c-TxsH",
        "outputId": "426a2009-380c-4daf-d77d-a1d2d55167be"
      },
      "execution_count": 14,
      "outputs": [
        {
          "output_type": "execute_result",
          "data": {
            "text/plain": [
              "(9656, 135)"
            ]
          },
          "metadata": {},
          "execution_count": 14
        }
      ]
    },
    {
      "cell_type": "code",
      "source": [
        "countries_with_most_terrorism = data.country_txt.value_counts().head(10)\n",
        "countries_with_most_terrorism"
      ],
      "metadata": {
        "colab": {
          "base_uri": "https://localhost:8080/"
        },
        "id": "8TqliRzJTxvD",
        "outputId": "bb491c6c-b56d-472d-ef0a-cc376a560220"
      },
      "execution_count": 15,
      "outputs": [
        {
          "output_type": "execute_result",
          "data": {
            "text/plain": [
              "United Kingdom    1599\n",
              "United States     1460\n",
              "Italy              992\n",
              "Spain              890\n",
              "Turkey             475\n",
              "France             464\n",
              "Colombia           404\n",
              "El Salvador        387\n",
              "Argentina          326\n",
              "Nicaragua          286\n",
              "Name: country_txt, dtype: int64"
            ]
          },
          "metadata": {},
          "execution_count": 15
        }
      ]
    },
    {
      "cell_type": "code",
      "source": [
        "countries = list(countries_with_most_terrorism.index)\n",
        "countries"
      ],
      "metadata": {
        "colab": {
          "base_uri": "https://localhost:8080/"
        },
        "id": "vDM4vG3PTxwc",
        "outputId": "9e188d5d-58a3-45ca-dfeb-b527658f2656"
      },
      "execution_count": 16,
      "outputs": [
        {
          "output_type": "execute_result",
          "data": {
            "text/plain": [
              "['United Kingdom',\n",
              " 'United States',\n",
              " 'Italy',\n",
              " 'Spain',\n",
              " 'Turkey',\n",
              " 'France',\n",
              " 'Colombia',\n",
              " 'El Salvador',\n",
              " 'Argentina',\n",
              " 'Nicaragua']"
            ]
          },
          "metadata": {},
          "execution_count": 16
        }
      ]
    },
    {
      "cell_type": "code",
      "source": [
        "x, y = countries_with_most_terrorism.index, countries_with_most_terrorism.values\n",
        "\n",
        "fig, ax = plt.subplots(figsize=(15,5))\n",
        "ax.bar(x, y,align=\"center\",edgecolor=\"black\",color=\"pink\")\n",
        "plt.xticks(rotation=0)\n",
        "plt.title(\"Countries with most terrorism\")"
      ],
      "metadata": {
        "colab": {
          "base_uri": "https://localhost:8080/",
          "height": 353
        },
        "id": "OyB4X5a1Txz7",
        "outputId": "00b4602e-d892-41e5-cd97-42d9e9ade046"
      },
      "execution_count": 43,
      "outputs": [
        {
          "output_type": "execute_result",
          "data": {
            "text/plain": [
              "Text(0.5, 1.0, 'Countries with most terrorism')"
            ]
          },
          "metadata": {},
          "execution_count": 43
        },
        {
          "output_type": "display_data",
          "data": {
            "text/plain": [
              "<Figure size 1080x360 with 1 Axes>"
            ],
            "image/png": "[encoded data removed]"
          },
          "metadata": {
            "needs_background": "light"
          }
        }
      ]
    },
    {
      "cell_type": "code",
      "source": [
        "# Filtering country data\n",
        "data_countries = data[data['country_txt'].isin(countries)]\n",
        "data_countries.head()"
      ],
      "metadata": {
        "colab": {
          "base_uri": "https://localhost:8080/",
          "height": 664
        },
        "id": "hOk3E9biTx3i",
        "outputId": "99b399c5-d29f-4695-c5f8-3f6fc971cd9e"
      },
      "execution_count": 18,
      "outputs": [
        {
          "output_type": "execute_result",
          "data": {
            "text/plain": [
              "         eventid  iyear  imonth  iday approxdate  extended resolution  \\\n",
              "5   197001010002   1970       1     1        NaN       0.0        NaN   \n",
              "7   197001020002   1970       1     2        NaN       0.0        NaN   \n",
              "8   197001020003   1970       1     2        NaN       0.0        NaN   \n",
              "9   197001030001   1970       1     3        NaN       0.0        NaN   \n",
              "10  197001050001   1970       1     1        NaN       0.0        NaN   \n",
              "\n",
              "    country    country_txt  region  ...  \\\n",
              "5     217.0  United States     1.0  ...   \n",
              "7     217.0  United States     1.0  ...   \n",
              "8     217.0  United States     1.0  ...   \n",
              "9     217.0  United States     1.0  ...   \n",
              "10    217.0  United States     1.0  ...   \n",
              "\n",
              "                                             addnotes  \\\n",
              "5   The Cairo Chief of Police, William Petersen, r...   \n",
              "7   Damages were estimated to be between $20,000-$...   \n",
              "8   The New Years Gang issue a communiqué to a loc...   \n",
              "9   Karl Armstrong's girlfriend, Lynn Schultz, dro...   \n",
              "10                                                NaN   \n",
              "\n",
              "                                               scite1  \\\n",
              "5   \"Police Chief Quits,\" Washington Post, January...   \n",
              "7   Committee on Government Operations United Stat...   \n",
              "8   Tom Bates, \"Rads: The 1970 Bombing of the Army...   \n",
              "9   Committee on Government Operations United Stat...   \n",
              "10                                                NaN   \n",
              "\n",
              "                                               scite2  \\\n",
              "5   \"Cairo Police Chief Quits; Decries Local 'Mili...   \n",
              "7   Christopher Hewitt, \"Political Violence and Te...   \n",
              "8   David Newman, Sandra Sutherland, and Jon Stewa...   \n",
              "9   Tom Bates, \"Rads: The 1970 Bombing of the Army...   \n",
              "10                                                NaN   \n",
              "\n",
              "                                               scite3        dbsource  \\\n",
              "5   Christopher Hewitt, \"Political Violence and Te...  Hewitt Project   \n",
              "7                                                 NaN  Hewitt Project   \n",
              "8   The Wisconsin Cartographers' Guild, \"Wisconsin...  Hewitt Project   \n",
              "9   David Newman, Sandra Sutherland, and Jon Stewa...  Hewitt Project   \n",
              "10                                                NaN            PGIS   \n",
              "\n",
              "    INT_LOG  INT_IDEO INT_MISC INT_ANY  related  \n",
              "5      -9.0      -9.0      0.0    -9.0      NaN  \n",
              "7      -9.0      -9.0      0.0    -9.0      NaN  \n",
              "8       0.0       0.0      0.0     0.0      NaN  \n",
              "9       0.0       0.0      0.0     0.0      NaN  \n",
              "10      0.0       0.0      0.0     0.0      NaN  \n",
              "\n",
              "[5 rows x 135 columns]"
            ],
            "text/html": [
              "\n",
              "  <div id=\"df-635bffe8-3cc3-45a5-9f88-3b007657b6cd\">\n",
              "    <div class=\"colab-df-container\">\n",
              "      <div>\n",
              "<style scoped>\n",
              "    .dataframe tbody tr th:only-of-type {\n",
              "        vertical-align: middle;\n",
              "    }\n",
              "\n",
              "    .dataframe tbody tr th {\n",
              "        vertical-align: top;\n",
              "    }\n",
              "\n",
              "    .dataframe thead th {\n",
              "        text-align: right;\n",
              "    }\n",
              "</style>\n",
              "<table border=\"1\" class=\"dataframe\">\n",
              "  <thead>\n",
              "    <tr style=\"text-align: right;\">\n",
              "      <th></th>\n",
              "      <th>eventid</th>\n",
              "      <th>iyear</th>\n",
              "      <th>imonth</th>\n",
              "      <th>iday</th>\n",
              "      <th>approxdate</th>\n",
              "      <th>extended</th>\n",
              "      <th>resolution</th>\n",
              "      <th>country</th>\n",
              "      <th>country_txt</th>\n",
              "      <th>region</th>\n",
              "      <th>...</th>\n",
              "      <th>addnotes</th>\n",
              "      <th>scite1</th>\n",
              "      <th>scite2</th>\n",
              "      <th>scite3</th>\n",
              "      <th>dbsource</th>\n",
              "      <th>INT_LOG</th>\n",
              "      <th>INT_IDEO</th>\n",
              "      <th>INT_MISC</th>\n",
              "      <th>INT_ANY</th>\n",
              "      <th>related</th>\n",
              "    </tr>\n",
              "  </thead>\n",
              "  <tbody>\n",
              "    <tr>\n",
              "      <th>5</th>\n",
              "      <td>197001010002</td>\n",
              "      <td>1970</td>\n",
              "      <td>1</td>\n",
              "      <td>1</td>\n",
              "      <td>NaN</td>\n",
              "      <td>0.0</td>\n",
              "      <td>NaN</td>\n",
              "      <td>217.0</td>\n",
              "      <td>United States</td>\n",
              "      <td>1.0</td>\n",
              "      <td>...</td>\n",
              "      <td>The Cairo Chief of Police, William Petersen, r...</td>\n",
              "      <td>\"Police Chief Quits,\" Washington Post, January...</td>\n",
              "      <td>\"Cairo Police Chief Quits; Decries Local 'Mili...</td>\n",
              "      <td>Christopher Hewitt, \"Political Violence and Te...</td>\n",
              "      <td>Hewitt Project</td>\n",
              "      <td>-9.0</td>\n",
              "      <td>-9.0</td>\n",
              "      <td>0.0</td>\n",
              "      <td>-9.0</td>\n",
              "      <td>NaN</td>\n",
              "    </tr>\n",
              "    <tr>\n",
              "      <th>7</th>\n",
              "      <td>197001020002</td>\n",
              "      <td>1970</td>\n",
              "      <td>1</td>\n",
              "      <td>2</td>\n",
              "      <td>NaN</td>\n",
              "      <td>0.0</td>\n",
              "      <td>NaN</td>\n",
              "      <td>217.0</td>\n",
              "      <td>United States</td>\n",
              "      <td>1.0</td>\n",
              "      <td>...</td>\n",
              "      <td>Damages were estimated to be between $20,000-$...</td>\n",
              "      <td>Committee on Government Operations United Stat...</td>\n",
              "      <td>Christopher Hewitt, \"Political Violence and Te...</td>\n",
              "      <td>NaN</td>\n",
              "      <td>Hewitt Project</td>\n",
              "      <td>-9.0</td>\n",
              "      <td>-9.0</td>\n",
              "      <td>0.0</td>\n",
              "      <td>-9.0</td>\n",
              "      <td>NaN</td>\n",
              "    </tr>\n",
              "    <tr>\n",
              "      <th>8</th>\n",
              "      <td>197001020003</td>\n",
              "      <td>1970</td>\n",
              "      <td>1</td>\n",
              "      <td>2</td>\n",
              "      <td>NaN</td>\n",
              "      <td>0.0</td>\n",
              "      <td>NaN</td>\n",
              "      <td>217.0</td>\n",
              "      <td>United States</td>\n",
              "      <td>1.0</td>\n",
              "      <td>...</td>\n",
              "      <td>The New Years Gang issue a communiqué to a loc...</td>\n",
              "      <td>Tom Bates, \"Rads: The 1970 Bombing of the Army...</td>\n",
              "      <td>David Newman, Sandra Sutherland, and Jon Stewa...</td>\n",
              "      <td>The Wisconsin Cartographers' Guild, \"Wisconsin...</td>\n",
              "      <td>Hewitt Project</td>\n",
              "      <td>0.0</td>\n",
              "      <td>0.0</td>\n",
              "      <td>0.0</td>\n",
              "      <td>0.0</td>\n",
              "      <td>NaN</td>\n",
              "    </tr>\n",
              "    <tr>\n",
              "      <th>9</th>\n",
              "      <td>197001030001</td>\n",
              "      <td>1970</td>\n",
              "      <td>1</td>\n",
              "      <td>3</td>\n",
              "      <td>NaN</td>\n",
              "      <td>0.0</td>\n",
              "      <td>NaN</td>\n",
              "      <td>217.0</td>\n",
              "      <td>United States</td>\n",
              "      <td>1.0</td>\n",
              "      <td>...</td>\n",
              "      <td>Karl Armstrong's girlfriend, Lynn Schultz, dro...</td>\n",
              "      <td>Committee on Government Operations United Stat...</td>\n",
              "      <td>Tom Bates, \"Rads: The 1970 Bombing of the Army...</td>\n",
              "      <td>David Newman, Sandra Sutherland, and Jon Stewa...</td>\n",
              "      <td>Hewitt Project</td>\n",
              "      <td>0.0</td>\n",
              "      <td>0.0</td>\n",
              "      <td>0.0</td>\n",
              "      <td>0.0</td>\n",
              "      <td>NaN</td>\n",
              "    </tr>\n",
              "    <tr>\n",
              "      <th>10</th>\n",
              "      <td>197001050001</td>\n",
              "      <td>1970</td>\n",
              "      <td>1</td>\n",
              "      <td>1</td>\n",
              "      <td>NaN</td>\n",
              "      <td>0.0</td>\n",
              "      <td>NaN</td>\n",
              "      <td>217.0</td>\n",
              "      <td>United States</td>\n",
              "      <td>1.0</td>\n",
              "      <td>...</td>\n",
              "      <td>NaN</td>\n",
              "      <td>NaN</td>\n",
              "      <td>NaN</td>\n",
              "      <td>NaN</td>\n",
              "      <td>PGIS</td>\n",
              "      <td>0.0</td>\n",
              "      <td>0.0</td>\n",
              "      <td>0.0</td>\n",
              "      <td>0.0</td>\n",
              "      <td>NaN</td>\n",
              "    </tr>\n",
              "  </tbody>\n",
              "</table>\n",
              "<p>5 rows × 135 columns</p>\n",
              "</div>\n",
              "      <button class=\"colab-df-convert\" onclick=\"convertToInteractive('df-635bffe8-3cc3-45a5-9f88-3b007657b6cd')\"\n",
              "              title=\"Convert this dataframe to an interactive table.\"\n",
              "              style=\"display:none;\">\n",
              "        \n",
              "  <svg xmlns=\"http://www.w3.org/2000/svg\" height=\"24px\"viewBox=\"0 0 24 24\"\n",
              "       width=\"24px\">\n",
              "    <path d=\"M0 0h24v24H0V0z\" fill=\"none\"/>\n",
              "    <path d=\"M18.56 5.44l.94 2.06.94-2.06 2.06-.94-2.06-.94-.94-2.06-.94 2.06-2.06.94zm-11 1L8.5 8.5l.94-2.06 2.06-.94-2.06-.94L8.5 2.5l-.94 2.06-2.06.94zm10 10l.94 2.06.94-2.06 2.06-.94-2.06-.94-.94-2.06-.94 2.06-2.06.94z\"/><path d=\"M17.41 7.96l-1.37-1.37c-.4-.4-.92-.59-1.43-.59-.52 0-1.04.2-1.43.59L10.3 9.45l-7.72 7.72c-.78.78-.78 2.05 0 2.83L4 21.41c.39.39.9.59 1.41.59.51 0 1.02-.2 1.41-.59l7.78-7.78 2.81-2.81c.8-.78.8-2.07 0-2.86zM5.41 20L4 18.59l7.72-7.72 1.47 1.35L5.41 20z\"/>\n",
              "  </svg>\n",
              "      </button>\n",
              "      \n",
              "  <style>\n",
              "    .colab-df-container {\n",
              "      display:flex;\n",
              "      flex-wrap:wrap;\n",
              "      gap: 12px;\n",
              "    }\n",
              "\n",
              "    .colab-df-convert {\n",
              "      background-color: #E8F0FE;\n",
              "      border: none;\n",
              "      border-radius: 50%;\n",
              "      cursor: pointer;\n",
              "      display: none;\n",
              "      fill: #1967D2;\n",
              "      height: 32px;\n",
              "      padding: 0 0 0 0;\n",
              "      width: 32px;\n",
              "    }\n",
              "\n",
              "    .colab-df-convert:hover {\n",
              "      background-color: #E2EBFA;\n",
              "      box-shadow: 0px 1px 2px rgba(60, 64, 67, 0.3), 0px 1px 3px 1px rgba(60, 64, 67, 0.15);\n",
              "      fill: #174EA6;\n",
              "    }\n",
              "\n",
              "    [theme=dark] .colab-df-convert {\n",
              "      background-color: #3B4455;\n",
              "      fill: #D2E3FC;\n",
              "    }\n",
              "\n",
              "    [theme=dark] .colab-df-convert:hover {\n",
              "      background-color: #434B5C;\n",
              "      box-shadow: 0px 1px 3px 1px rgba(0, 0, 0, 0.15);\n",
              "      filter: drop-shadow(0px 1px 2px rgba(0, 0, 0, 0.3));\n",
              "      fill: #FFFFFF;\n",
              "    }\n",
              "  </style>\n",
              "\n",
              "      <script>\n",
              "        const buttonEl =\n",
              "          document.querySelector('#df-635bffe8-3cc3-45a5-9f88-3b007657b6cd button.colab-df-convert');\n",
              "        buttonEl.style.display =\n",
              "          google.colab.kernel.accessAllowed ? 'block' : 'none';\n",
              "\n",
              "        async function convertToInteractive(key) {\n",
              "          const element = document.querySelector('#df-635bffe8-3cc3-45a5-9f88-3b007657b6cd');\n",
              "          const dataTable =\n",
              "            await google.colab.kernel.invokeFunction('convertToInteractive',\n",
              "                                                     [key], {});\n",
              "          if (!dataTable) return;\n",
              "\n",
              "          const docLinkHtml = 'Like what you see? Visit the ' +\n",
              "            '<a target=\"_blank\" href=https://colab.research.google.com/notebooks/data_table.ipynb>data table notebook</a>'\n",
              "            + ' to learn more about interactive tables.';\n",
              "          element.innerHTML = '';\n",
              "          dataTable['output_type'] = 'display_data';\n",
              "          await google.colab.output.renderOutput(dataTable, element);\n",
              "          const docLink = document.createElement('div');\n",
              "          docLink.innerHTML = docLinkHtml;\n",
              "          element.appendChild(docLink);\n",
              "        }\n",
              "      </script>\n",
              "    </div>\n",
              "  </div>\n",
              "  "
            ]
          },
          "metadata": {},
          "execution_count": 18
        }
      ]
    },
    {
      "cell_type": "code",
      "source": [
        "data_countries.columns"
      ],
      "metadata": {
        "colab": {
          "base_uri": "https://localhost:8080/"
        },
        "id": "Cfc5gMI-UmF7",
        "outputId": "8466ec77-fa86-47d0-b267-f9df83e90cf2"
      },
      "execution_count": 21,
      "outputs": [
        {
          "output_type": "execute_result",
          "data": {
            "text/plain": [
              "Index(['eventid', 'iyear', 'imonth', 'iday', 'approxdate', 'extended',\n",
              "       'resolution', 'country', 'country_txt', 'region',\n",
              "       ...\n",
              "       'addnotes', 'scite1', 'scite2', 'scite3', 'dbsource', 'INT_LOG',\n",
              "       'INT_IDEO', 'INT_MISC', 'INT_ANY', 'related'],\n",
              "      dtype='object', length=135)"
            ]
          },
          "metadata": {},
          "execution_count": 21
        }
      ]
    },
    {
      "cell_type": "code",
      "source": [
        "# Filtering top 10 Countries on which max attacks by terrorists\n",
        "raw_data = data_countries.iyear.value_counts().head(10)\n",
        "raw_data"
      ],
      "metadata": {
        "colab": {
          "base_uri": "https://localhost:8080/"
        },
        "id": "1VLakAFbUvyF",
        "outputId": "75510527-ecf2-4689-e321-418aa85705e8"
      },
      "execution_count": 22,
      "outputs": [
        {
          "output_type": "execute_result",
          "data": {
            "text/plain": [
              "1979    1637\n",
              "1978    1134\n",
              "1977    1075\n",
              "1976     704\n",
              "1975     587\n",
              "1970     522\n",
              "1974     438\n",
              "1972     427\n",
              "1971     395\n",
              "1973     364\n",
              "Name: iyear, dtype: int64"
            ]
          },
          "metadata": {},
          "execution_count": 22
        }
      ]
    },
    {
      "cell_type": "code",
      "source": [
        "# Displaying years with most number of terrorism activities happend.\n",
        "\n",
        "year = raw_data\n",
        "x, y = year.index, year.values\n",
        "\n",
        "fig, ax = plt.subplots(figsize=(15,5))\n",
        "ax.bar(x, y, edgecolor = \"Black\", color = \"red\")\n",
        "plt.xticks(rotation=0)\n",
        "plt.title(\"Years with most number of terrorism actively.\")"
      ],
      "metadata": {
        "colab": {
          "base_uri": "https://localhost:8080/",
          "height": 353
        },
        "id": "crstYxK3VChO",
        "outputId": "77205d94-68b3-482e-dc35-184b14cd1456"
      },
      "execution_count": 45,
      "outputs": [
        {
          "output_type": "execute_result",
          "data": {
            "text/plain": [
              "Text(0.5, 1.0, 'Years with most number of terrorism actively.')"
            ]
          },
          "metadata": {},
          "execution_count": 45
        },
        {
          "output_type": "display_data",
          "data": {
            "text/plain": [
              "<Figure size 1080x360 with 1 Axes>"
            ],
            "image/png": "[encoded data removed]"
          },
          "metadata": {
            "needs_background": "light"
          }
        }
      ]
    },
    {
      "cell_type": "code",
      "source": [
        "# Top 10 Targets that are attacked most by terrorists\n",
        "\n",
        "target = data_countries['targtype1_txt'].value_counts().head(10)\n",
        "\n",
        "fig, ax = plt.subplots(figsize=(20, 5))\n",
        "ax.bar(target.index, target.values, edgecolor = \"orange\", color = \"blue\")\n",
        "plt.xticks(rotation = 45)\n",
        "plt.title(\"Type of Target\")"
      ],
      "metadata": {
        "colab": {
          "base_uri": "https://localhost:8080/",
          "height": 444
        },
        "id": "ZOaobm2tVCij",
        "outputId": "a4a691b0-7f72-4d3a-9cb2-84eff0574a3c"
      },
      "execution_count": 46,
      "outputs": [
        {
          "output_type": "execute_result",
          "data": {
            "text/plain": [
              "Text(0.5, 1.0, 'Type of Target')"
            ]
          },
          "metadata": {},
          "execution_count": 46
        },
        {
          "output_type": "display_data",
          "data": {
            "text/plain": [
              "<Figure size 1440x360 with 1 Axes>"
            ],
            "image/png": "[encoded data removed]"
          },
          "metadata": {
            "needs_background": "light"
          }
        }
      ]
    },
    {
      "cell_type": "code",
      "source": [
        "target = data_countries['targtype1_txt'].value_counts().head(10)\n",
        "\n",
        "fig, ax = plt.subplots(figsize=(10,10))\n",
        "explode = (0.1,0,0,0,0,0,0,0,0,0)  # Only \"Explodes\" the 2nd slice(i.e. 'Hogs')\n",
        "\n",
        "#ax.bar(target.index, target.values, color = \"skyblue\")\n",
        "ax.pie(target.values, explode = explode, labels = target.index, autopct = '%1.1f%%',shadow=True)\n",
        "ax.axis('equal') # Equals aspect ratio ensures that pie is draen as a circle."
      ],
      "metadata": {
        "colab": {
          "base_uri": "https://localhost:8080/",
          "height": 598
        },
        "id": "3W3pCEWxVCm7",
        "outputId": "9e03aea5-f9e2-4cd2-c0ad-21a3b0148289"
      },
      "execution_count": 25,
      "outputs": [
        {
          "output_type": "execute_result",
          "data": {
            "text/plain": [
              "(-1.1127713370161347, 1.166079507272753, -1.11188349834223, 1.1913221433358845)"
            ]
          },
          "metadata": {},
          "execution_count": 25
        },
        {
          "output_type": "display_data",
          "data": {
            "text/plain": [
              "<Figure size 720x720 with 1 Axes>"
            ],
            "image/png": "[encoded data removed]"
          },
          "metadata": {}
        }
      ]
    },
    {
      "cell_type": "code",
      "source": [
        "# Top 5 most attacks actioned by terrorists with particular materials / Weapons.\n",
        "\n",
        "weapon_types = data_countries[\"weaptype1_txt\"].value_counts().head(5)\n",
        "\n",
        "fix,ax = plt.subplots(figsize=(10,4))\n",
        "ax.bar(weapon_types.index, weapon_types.values, edgecolor=\"black\", color = \"purple\")\n",
        "plt.xticks(rotation=45)\n",
        "plt.title(\"Type of Attacks\")"
      ],
      "metadata": {
        "colab": {
          "base_uri": "https://localhost:8080/",
          "height": 333
        },
        "id": "3kdp7Y3pVNBY",
        "outputId": "fad1e3b2-37d6-491b-b854-d6f21be76847"
      },
      "execution_count": 27,
      "outputs": [
        {
          "output_type": "execute_result",
          "data": {
            "text/plain": [
              "Text(0.5, 1.0, 'Type of Attacks')"
            ]
          },
          "metadata": {},
          "execution_count": 27
        },
        {
          "output_type": "display_data",
          "data": {
            "text/plain": [
              "<Figure size 720x288 with 1 Axes>"
            ],
            "image/png": "[encoded data removed]"
          },
          "metadata": {
            "needs_background": "light"
          }
        }
      ]
    },
    {
      "cell_type": "code",
      "source": [
        "# Top 5 most attacks actioned by terrorists with particular materials / Weapons.\n",
        "\n",
        "weapon_types = data_countries[\"weaptype1_txt\"].value_counts().head(5)\n",
        "\n",
        "fig, ax = plt.subplots(figsize=(8,8))\n",
        "explode = (0.1,0.1,0,0,0)  \n",
        "\n",
        "#ax.bar(target.index, target.values, color = \"skyblue\")\n",
        "ax.pie(weapon_types.values, explode = explode, labels = weapon_types.index, autopct = '%1.1f%%',shadow=True)\n",
        "ax.axis('equal') # Equals aspect ratio ensures that pie is draen as a circle."
      ],
      "metadata": {
        "colab": {
          "base_uri": "https://localhost:8080/",
          "height": 483
        },
        "id": "xns2lQBLVair",
        "outputId": "f69dbd70-a676-4941-c9ed-0ce4f00f3506"
      },
      "execution_count": 29,
      "outputs": [
        {
          "output_type": "execute_result",
          "data": {
            "text/plain": [
              "(-1.19886860335511, 1.122974143930536, -1.181370666094262, 1.2338961222890188)"
            ]
          },
          "metadata": {},
          "execution_count": 29
        },
        {
          "output_type": "display_data",
          "data": {
            "text/plain": [
              "<Figure size 576x576 with 1 Axes>"
            ],
            "image/png": "[encoded data removed]"
          },
          "metadata": {}
        }
      ]
    },
    {
      "cell_type": "code",
      "source": [
        "data.attacktype1_txt.value_counts()"
      ],
      "metadata": {
        "colab": {
          "base_uri": "https://localhost:8080/"
        },
        "id": "Nrj8qjfhValm",
        "outputId": "939974e6-40b6-4165-fcd2-01920507c774"
      },
      "execution_count": 31,
      "outputs": [
        {
          "output_type": "execute_result",
          "data": {
            "text/plain": [
              "Bombing/Explosion                      4237\n",
              "Assassination                          1947\n",
              "Armed Assault                          1352\n",
              "Facility/Infrastructure Attack         1067\n",
              "Hostage Taking (Kidnapping)             525\n",
              "Unknown                                 278\n",
              "Hostage Taking (Barricade Incident)     163\n",
              "Hijacking                                61\n",
              "Unarmed Assault                          25\n",
              "Name: attacktype1_txt, dtype: int64"
            ]
          },
          "metadata": {},
          "execution_count": 31
        }
      ]
    },
    {
      "cell_type": "code",
      "source": [
        "# Top 10 most type of attacks actioned by terrorists.\n",
        "\n",
        "attack_type=data_countries['attacktype1_txt'].value_counts().head(10)\n",
        "\n",
        "fig, ax = plt.subplots(figsize=(15,5))\n",
        "ax.bar(attack_type.index,attack_type.values, edgecolor = \"blue\", color = \"purple\")\n",
        "plt.xticks(rotation=70)\n",
        "plt.title(\"Type of Attacks\")"
      ],
      "metadata": {
        "colab": {
          "base_uri": "https://localhost:8080/",
          "height": 514
        },
        "id": "L_j0d8XaVwcJ",
        "outputId": "127eba88-666a-46b9-9791-ee585b0bedc4"
      },
      "execution_count": 32,
      "outputs": [
        {
          "output_type": "execute_result",
          "data": {
            "text/plain": [
              "Text(0.5, 1.0, 'Type of Attacks')"
            ]
          },
          "metadata": {},
          "execution_count": 32
        },
        {
          "output_type": "display_data",
          "data": {
            "text/plain": [
              "<Figure size 1080x360 with 1 Axes>"
            ],
            "image/png": "[encoded data removed]"
          },
          "metadata": {
            "needs_background": "light"
          }
        }
      ]
    },
    {
      "cell_type": "code",
      "source": [
        "# Top 10 most type of attacks actioned by terrorists.\n",
        "\n",
        "attack_type=data_countries['attacktype1_txt'].value_counts().head(10)\n",
        "\n",
        "fig, ax = plt.subplots(figsize=(8,8))\n",
        "explode = (0.1,0,0,0,0,0,0,0,0)  \n",
        "\n",
        "#ax.bar(target.index, target.values, color = \"skyblue\")\n",
        "ax.pie(attack_type.values, explode = explode, labels = attack_type.index, autopct = '%1.1f%%',shadow=True)\n",
        "ax.axis('equal') # Equals aspect ratio ensures that pie is draen as a circle."
      ],
      "metadata": {
        "colab": {
          "base_uri": "https://localhost:8080/",
          "height": 535
        },
        "id": "6qOMRzceVwfH",
        "outputId": "a14c03e0-d998-4003-af8f-737d854cc0ca"
      },
      "execution_count": 33,
      "outputs": [
        {
          "output_type": "execute_result",
          "data": {
            "text/plain": [
              "(-1.1274734601708551,\n",
              " 1.123043803438325,\n",
              " -1.1153156673648807,\n",
              " 1.230219533767433)"
            ]
          },
          "metadata": {},
          "execution_count": 33
        },
        {
          "output_type": "display_data",
          "data": {
            "text/plain": [
              "<Figure size 576x576 with 1 Axes>"
            ],
            "image/png": "[encoded data removed]"
          },
          "metadata": {}
        }
      ]
    },
    {
      "cell_type": "code",
      "source": [
        "# Top 10 most cities where terrorist attacks actioned by terrorists.\n",
        "\n",
        "cities_with_most_terrorism = data.city.value_counts().head(10)\n",
        "cities = list(cities_with_most_terrorism.index)\n",
        "cities_with_most_terrorism"
      ],
      "metadata": {
        "colab": {
          "base_uri": "https://localhost:8080/"
        },
        "id": "1s5TPe59V2MW",
        "outputId": "b12fb482-2ef8-4648-d861-6a39c29ca08f"
      },
      "execution_count": 34,
      "outputs": [
        {
          "output_type": "execute_result",
          "data": {
            "text/plain": [
              "Belfast          801\n",
              "Unknown          405\n",
              "Rome             335\n",
              "New York City    322\n",
              "Paris            234\n",
              "San Salvador     212\n",
              "Buenos Aires     199\n",
              "Madrid           199\n",
              "Ankara           142\n",
              "Istanbul         132\n",
              "Name: city, dtype: int64"
            ]
          },
          "metadata": {},
          "execution_count": 34
        }
      ]
    },
    {
      "cell_type": "code",
      "source": [
        "# Graphical representation of top 10 Cities with most terrorism.\n",
        "x, y = cities_with_most_terrorism.index,cities_with_most_terrorism.values\n",
        "\n",
        "fig, ax = plt.subplots(figsize=(15,5))\n",
        "ax.bar(x, y, edgecolor = \"orange\", color = \"red\")\n",
        "plt.xticks(rotation = 45)\n",
        "plt.title(\"Cities with most terrorism\")"
      ],
      "metadata": {
        "colab": {
          "base_uri": "https://localhost:8080/",
          "height": 398
        },
        "id": "-lz0AaOhV4qT",
        "outputId": "22e35e33-06ad-495e-c55e-e491cdc1d6e2"
      },
      "execution_count": 35,
      "outputs": [
        {
          "output_type": "execute_result",
          "data": {
            "text/plain": [
              "Text(0.5, 1.0, 'Cities with most terrorism')"
            ]
          },
          "metadata": {},
          "execution_count": 35
        },
        {
          "output_type": "display_data",
          "data": {
            "text/plain": [
              "<Figure size 1080x360 with 1 Axes>"
            ],
            "image/png": "[encoded data removed]"
          },
          "metadata": {
            "needs_background": "light"
          }
        }
      ]
    },
    {
      "cell_type": "code",
      "source": [
        "religious_target = data[data[\"targtype1_txt\"]==\"Religious Figures/Institutions\"]\n",
        "religious_target.head(5)"
      ],
      "metadata": {
        "colab": {
          "base_uri": "https://localhost:8080/",
          "height": 734
        },
        "id": "6g_29pb8V7MQ",
        "outputId": "eb8931a5-0c2c-40cd-dbf7-66759cee7c86"
      },
      "execution_count": 36,
      "outputs": [
        {
          "output_type": "execute_result",
          "data": {
            "text/plain": [
              "          eventid  iyear  imonth  iday approxdate  extended resolution  \\\n",
              "35   197001280002   1970       1    28        NaN       0.0        NaN   \n",
              "49   197002060003   1970       2     6        NaN       0.0        NaN   \n",
              "117  197003090004   1970       3     9        NaN       0.0        NaN   \n",
              "190  197004130003   1970       4    13        NaN       0.0        NaN   \n",
              "204  197004190001   1970       4    19        NaN       0.0        NaN   \n",
              "\n",
              "     country    country_txt  region  ...  \\\n",
              "35     217.0  United States     1.0  ...   \n",
              "49     217.0  United States     1.0  ...   \n",
              "117    217.0  United States     1.0  ...   \n",
              "190    217.0  United States     1.0  ...   \n",
              "204    217.0  United States     1.0  ...   \n",
              "\n",
              "                                              addnotes  \\\n",
              "35                                                 NaN   \n",
              "49   This might be linked with 197001280002.  Both ...   \n",
              "117                                                NaN   \n",
              "190  Part of a multiple attack with 197004130002 an...   \n",
              "204  This was part of a multiple attack 19700419000...   \n",
              "\n",
              "                                                scite1  \\\n",
              "35   Committee on Government Operations United Stat...   \n",
              "49   Committee on Government Operations United Stat...   \n",
              "117  Committee on Government Operations United Stat...   \n",
              "190  Committee on Government Operations United Stat...   \n",
              "204  Earl Caldwell, \"Fear Grows in Seattle as Polic...   \n",
              "\n",
              "                                                scite2  \\\n",
              "35   \"Synagogue Blasted,\" Tri City Herald, January ...   \n",
              "49                                                 NaN   \n",
              "117                                                NaN   \n",
              "190  \"Teamster Walkouts Close More Plants,\" Washing...   \n",
              "204  \"4 Buildings Bombed in Seattle,\" Washington Po...   \n",
              "\n",
              "                                                scite3        dbsource  \\\n",
              "35                                                 NaN  Hewitt Project   \n",
              "49                                                 NaN  Hewitt Project   \n",
              "117                                                NaN  Hewitt Project   \n",
              "190                                                NaN  Hewitt Project   \n",
              "204  Carole Beers, \"David Sprague, Former Legislato...  Hewitt Project   \n",
              "\n",
              "     INT_LOG  INT_IDEO INT_MISC INT_ANY  \\\n",
              "35      -9.0      -9.0      0.0    -9.0   \n",
              "49      -9.0      -9.0      0.0    -9.0   \n",
              "117     -9.0      -9.0      0.0    -9.0   \n",
              "190     -9.0      -9.0      0.0    -9.0   \n",
              "204     -9.0      -9.0      0.0    -9.0   \n",
              "\n",
              "                                               related  \n",
              "35                                                 NaN  \n",
              "49                                                 NaN  \n",
              "117                                                NaN  \n",
              "190           197004130002, 197004130003, 197004130004  \n",
              "204  197004190001, 197004190002, 197004190003, 1970...  \n",
              "\n",
              "[5 rows x 135 columns]"
            ],
            "text/html": [
              "\n",
              "  <div id=\"df-d15aaa90-6984-4b6c-8fef-fc90a72f72b6\">\n",
              "    <div class=\"colab-df-container\">\n",
              "      <div>\n",
              "<style scoped>\n",
              "    .dataframe tbody tr th:only-of-type {\n",
              "        vertical-align: middle;\n",
              "    }\n",
              "\n",
              "    .dataframe tbody tr th {\n",
              "        vertical-align: top;\n",
              "    }\n",
              "\n",
              "    .dataframe thead th {\n",
              "        text-align: right;\n",
              "    }\n",
              "</style>\n",
              "<table border=\"1\" class=\"dataframe\">\n",
              "  <thead>\n",
              "    <tr style=\"text-align: right;\">\n",
              "      <th></th>\n",
              "      <th>eventid</th>\n",
              "      <th>iyear</th>\n",
              "      <th>imonth</th>\n",
              "      <th>iday</th>\n",
              "      <th>approxdate</th>\n",
              "      <th>extended</th>\n",
              "      <th>resolution</th>\n",
              "      <th>country</th>\n",
              "      <th>country_txt</th>\n",
              "      <th>region</th>\n",
              "      <th>...</th>\n",
              "      <th>addnotes</th>\n",
              "      <th>scite1</th>\n",
              "      <th>scite2</th>\n",
              "      <th>scite3</th>\n",
              "      <th>dbsource</th>\n",
              "      <th>INT_LOG</th>\n",
              "      <th>INT_IDEO</th>\n",
              "      <th>INT_MISC</th>\n",
              "      <th>INT_ANY</th>\n",
              "      <th>related</th>\n",
              "    </tr>\n",
              "  </thead>\n",
              "  <tbody>\n",
              "    <tr>\n",
              "      <th>35</th>\n",
              "      <td>197001280002</td>\n",
              "      <td>1970</td>\n",
              "      <td>1</td>\n",
              "      <td>28</td>\n",
              "      <td>NaN</td>\n",
              "      <td>0.0</td>\n",
              "      <td>NaN</td>\n",
              "      <td>217.0</td>\n",
              "      <td>United States</td>\n",
              "      <td>1.0</td>\n",
              "      <td>...</td>\n",
              "      <td>NaN</td>\n",
              "      <td>Committee on Government Operations United Stat...</td>\n",
              "      <td>\"Synagogue Blasted,\" Tri City Herald, January ...</td>\n",
              "      <td>NaN</td>\n",
              "      <td>Hewitt Project</td>\n",
              "      <td>-9.0</td>\n",
              "      <td>-9.0</td>\n",
              "      <td>0.0</td>\n",
              "      <td>-9.0</td>\n",
              "      <td>NaN</td>\n",
              "    </tr>\n",
              "    <tr>\n",
              "      <th>49</th>\n",
              "      <td>197002060003</td>\n",
              "      <td>1970</td>\n",
              "      <td>2</td>\n",
              "      <td>6</td>\n",
              "      <td>NaN</td>\n",
              "      <td>0.0</td>\n",
              "      <td>NaN</td>\n",
              "      <td>217.0</td>\n",
              "      <td>United States</td>\n",
              "      <td>1.0</td>\n",
              "      <td>...</td>\n",
              "      <td>This might be linked with 197001280002.  Both ...</td>\n",
              "      <td>Committee on Government Operations United Stat...</td>\n",
              "      <td>NaN</td>\n",
              "      <td>NaN</td>\n",
              "      <td>Hewitt Project</td>\n",
              "      <td>-9.0</td>\n",
              "      <td>-9.0</td>\n",
              "      <td>0.0</td>\n",
              "      <td>-9.0</td>\n",
              "      <td>NaN</td>\n",
              "    </tr>\n",
              "    <tr>\n",
              "      <th>117</th>\n",
              "      <td>197003090004</td>\n",
              "      <td>1970</td>\n",
              "      <td>3</td>\n",
              "      <td>9</td>\n",
              "      <td>NaN</td>\n",
              "      <td>0.0</td>\n",
              "      <td>NaN</td>\n",
              "      <td>217.0</td>\n",
              "      <td>United States</td>\n",
              "      <td>1.0</td>\n",
              "      <td>...</td>\n",
              "      <td>NaN</td>\n",
              "      <td>Committee on Government Operations United Stat...</td>\n",
              "      <td>NaN</td>\n",
              "      <td>NaN</td>\n",
              "      <td>Hewitt Project</td>\n",
              "      <td>-9.0</td>\n",
              "      <td>-9.0</td>\n",
              "      <td>0.0</td>\n",
              "      <td>-9.0</td>\n",
              "      <td>NaN</td>\n",
              "    </tr>\n",
              "    <tr>\n",
              "      <th>190</th>\n",
              "      <td>197004130003</td>\n",
              "      <td>1970</td>\n",
              "      <td>4</td>\n",
              "      <td>13</td>\n",
              "      <td>NaN</td>\n",
              "      <td>0.0</td>\n",
              "      <td>NaN</td>\n",
              "      <td>217.0</td>\n",
              "      <td>United States</td>\n",
              "      <td>1.0</td>\n",
              "      <td>...</td>\n",
              "      <td>Part of a multiple attack with 197004130002 an...</td>\n",
              "      <td>Committee on Government Operations United Stat...</td>\n",
              "      <td>\"Teamster Walkouts Close More Plants,\" Washing...</td>\n",
              "      <td>NaN</td>\n",
              "      <td>Hewitt Project</td>\n",
              "      <td>-9.0</td>\n",
              "      <td>-9.0</td>\n",
              "      <td>0.0</td>\n",
              "      <td>-9.0</td>\n",
              "      <td>197004130002, 197004130003, 197004130004</td>\n",
              "    </tr>\n",
              "    <tr>\n",
              "      <th>204</th>\n",
              "      <td>197004190001</td>\n",
              "      <td>1970</td>\n",
              "      <td>4</td>\n",
              "      <td>19</td>\n",
              "      <td>NaN</td>\n",
              "      <td>0.0</td>\n",
              "      <td>NaN</td>\n",
              "      <td>217.0</td>\n",
              "      <td>United States</td>\n",
              "      <td>1.0</td>\n",
              "      <td>...</td>\n",
              "      <td>This was part of a multiple attack 19700419000...</td>\n",
              "      <td>Earl Caldwell, \"Fear Grows in Seattle as Polic...</td>\n",
              "      <td>\"4 Buildings Bombed in Seattle,\" Washington Po...</td>\n",
              "      <td>Carole Beers, \"David Sprague, Former Legislato...</td>\n",
              "      <td>Hewitt Project</td>\n",
              "      <td>-9.0</td>\n",
              "      <td>-9.0</td>\n",
              "      <td>0.0</td>\n",
              "      <td>-9.0</td>\n",
              "      <td>197004190001, 197004190002, 197004190003, 1970...</td>\n",
              "    </tr>\n",
              "  </tbody>\n",
              "</table>\n",
              "<p>5 rows × 135 columns</p>\n",
              "</div>\n",
              "      <button class=\"colab-df-convert\" onclick=\"convertToInteractive('df-d15aaa90-6984-4b6c-8fef-fc90a72f72b6')\"\n",
              "              title=\"Convert this dataframe to an interactive table.\"\n",
              "              style=\"display:none;\">\n",
              "        \n",
              "  <svg xmlns=\"http://www.w3.org/2000/svg\" height=\"24px\"viewBox=\"0 0 24 24\"\n",
              "       width=\"24px\">\n",
              "    <path d=\"M0 0h24v24H0V0z\" fill=\"none\"/>\n",
              "    <path d=\"M18.56 5.44l.94 2.06.94-2.06 2.06-.94-2.06-.94-.94-2.06-.94 2.06-2.06.94zm-11 1L8.5 8.5l.94-2.06 2.06-.94-2.06-.94L8.5 2.5l-.94 2.06-2.06.94zm10 10l.94 2.06.94-2.06 2.06-.94-2.06-.94-.94-2.06-.94 2.06-2.06.94z\"/><path d=\"M17.41 7.96l-1.37-1.37c-.4-.4-.92-.59-1.43-.59-.52 0-1.04.2-1.43.59L10.3 9.45l-7.72 7.72c-.78.78-.78 2.05 0 2.83L4 21.41c.39.39.9.59 1.41.59.51 0 1.02-.2 1.41-.59l7.78-7.78 2.81-2.81c.8-.78.8-2.07 0-2.86zM5.41 20L4 18.59l7.72-7.72 1.47 1.35L5.41 20z\"/>\n",
              "  </svg>\n",
              "      </button>\n",
              "      \n",
              "  <style>\n",
              "    .colab-df-container {\n",
              "      display:flex;\n",
              "      flex-wrap:wrap;\n",
              "      gap: 12px;\n",
              "    }\n",
              "\n",
              "    .colab-df-convert {\n",
              "      background-color: #E8F0FE;\n",
              "      border: none;\n",
              "      border-radius: 50%;\n",
              "      cursor: pointer;\n",
              "      display: none;\n",
              "      fill: #1967D2;\n",
              "      height: 32px;\n",
              "      padding: 0 0 0 0;\n",
              "      width: 32px;\n",
              "    }\n",
              "\n",
              "    .colab-df-convert:hover {\n",
              "      background-color: #E2EBFA;\n",
              "      box-shadow: 0px 1px 2px rgba(60, 64, 67, 0.3), 0px 1px 3px 1px rgba(60, 64, 67, 0.15);\n",
              "      fill: #174EA6;\n",
              "    }\n",
              "\n",
              "    [theme=dark] .colab-df-convert {\n",
              "      background-color: #3B4455;\n",
              "      fill: #D2E3FC;\n",
              "    }\n",
              "\n",
              "    [theme=dark] .colab-df-convert:hover {\n",
              "      background-color: #434B5C;\n",
              "      box-shadow: 0px 1px 3px 1px rgba(0, 0, 0, 0.15);\n",
              "      filter: drop-shadow(0px 1px 2px rgba(0, 0, 0, 0.3));\n",
              "      fill: #FFFFFF;\n",
              "    }\n",
              "  </style>\n",
              "\n",
              "      <script>\n",
              "        const buttonEl =\n",
              "          document.querySelector('#df-d15aaa90-6984-4b6c-8fef-fc90a72f72b6 button.colab-df-convert');\n",
              "        buttonEl.style.display =\n",
              "          google.colab.kernel.accessAllowed ? 'block' : 'none';\n",
              "\n",
              "        async function convertToInteractive(key) {\n",
              "          const element = document.querySelector('#df-d15aaa90-6984-4b6c-8fef-fc90a72f72b6');\n",
              "          const dataTable =\n",
              "            await google.colab.kernel.invokeFunction('convertToInteractive',\n",
              "                                                     [key], {});\n",
              "          if (!dataTable) return;\n",
              "\n",
              "          const docLinkHtml = 'Like what you see? Visit the ' +\n",
              "            '<a target=\"_blank\" href=https://colab.research.google.com/notebooks/data_table.ipynb>data table notebook</a>'\n",
              "            + ' to learn more about interactive tables.';\n",
              "          element.innerHTML = '';\n",
              "          dataTable['output_type'] = 'display_data';\n",
              "          await google.colab.output.renderOutput(dataTable, element);\n",
              "          const docLink = document.createElement('div');\n",
              "          docLink.innerHTML = docLinkHtml;\n",
              "          element.appendChild(docLink);\n",
              "        }\n",
              "      </script>\n",
              "    </div>\n",
              "  </div>\n",
              "  "
            ]
          },
          "metadata": {},
          "execution_count": 36
        }
      ]
    },
    {
      "cell_type": "code",
      "source": [
        "# Graphical representation of top 5 Countries with most terrorism on religious Figures or Institutions.\n",
        "\n",
        "x, y = religious_target[\"country_txt\"].value_counts().head().index,religious_target[\"country_txt\"].value_counts().head().values\n",
        "\n",
        "fig, ax = plt.subplots(figsize=(8,4))\n",
        "ax.bar(x, y, color = \"skyblue\")\n",
        "plt.title(\"Countries with most terrorism on religious Figures\")"
      ],
      "metadata": {
        "colab": {
          "base_uri": "https://localhost:8080/",
          "height": 298
        },
        "id": "Fx7yFsb-WEln",
        "outputId": "96916143-68a0-46db-802e-5257c4bb007a"
      },
      "execution_count": 39,
      "outputs": [
        {
          "output_type": "execute_result",
          "data": {
            "text/plain": [
              "Text(0.5, 1.0, 'Countries with most terrorism on religious Figures')"
            ]
          },
          "metadata": {},
          "execution_count": 39
        },
        {
          "output_type": "display_data",
          "data": {
            "text/plain": [
              "<Figure size 576x288 with 1 Axes>"
            ],
            "image/png": "[encoded data removed]"
          },
          "metadata": {
            "needs_background": "light"
          }
        }
      ]
    },
    {
      "cell_type": "code",
      "source": [
        "# Top 10 most type of attacks actioned by terrorists.\n",
        "\n",
        "y, x = religious_target[\"country_txt\"].value_counts().head().index,religious_target[\"country_txt\"].value_counts().head().values\n",
        "\n",
        "fig, ax = plt.subplots(figsize=(8,8))\n",
        "explode = (0.1,0,0,0,0)  \n",
        "\n",
        "#ax.bar(target.index, target.values, color = \"skyblue\")\n",
        "ax.pie(x, explode = explode, labels = y, autopct = '%1.1f%%',shadow=True)\n",
        "ax.axis('equal') # Equals aspect ratio ensures that pie is draen as a circle."
      ],
      "metadata": {
        "colab": {
          "base_uri": "https://localhost:8080/",
          "height": 537
        },
        "id": "97Q4DSuwWL2G",
        "outputId": "941b60a6-792e-4704-a9d0-7b56c5833aa9"
      },
      "execution_count": 41,
      "outputs": [
        {
          "output_type": "execute_result",
          "data": {
            "text/plain": [
              "(-1.1081821309406008,\n",
              " 1.103494066745205,\n",
              " -1.1153717839232133,\n",
              " 1.213059138258847)"
            ]
          },
          "metadata": {},
          "execution_count": 41
        },
        {
          "output_type": "display_data",
          "data": {
            "text/plain": [
              "<Figure size 576x576 with 1 Axes>"
            ],
            "image/png": "[encoded data removed]"
          },
          "metadata": {}
        }
      ]
    }
  ]
}